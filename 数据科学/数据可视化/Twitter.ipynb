{
 "cells": [
  {
   "cell_type": "code",
   "execution_count": 243,
   "metadata": {},
   "outputs": [],
   "source": [
    "import json\n",
    "import pandas as pd\n",
    "import os\n",
    "import re \n",
    "import numpy as np\n",
    "import matplotlib.pyplot as plt"
   ]
  },
  {
   "cell_type": "markdown",
   "metadata": {},
   "source": [
    "# 加载数据"
   ]
  },
  {
   "cell_type": "code",
   "execution_count": 244,
   "metadata": {},
   "outputs": [],
   "source": [
    "##读出json数据并转为dataframe格式\n",
    "def readjson(path):\n",
    "    df = pd.DataFrame()\n",
    "    nick = []\n",
    "    date = []\n",
    "    content = []\n",
    "    for fpathe,dirs,fs in os.walk(path):\n",
    "        for f in fs:\n",
    "            if f.find(\"before\")==-1 and f.find(\"after\")==-1:\n",
    "                filename = os.path.join(fpathe,f)\n",
    "\n",
    "                ##打开json文件,选择字段\n",
    "                fp = open(filename,encoding='UTF-8')\n",
    "                try:\n",
    "                    JsonObject = json.loads(fp.read())\n",
    "                    page = JsonObject['response']['list']\n",
    "                \n",
    "\n",
    "                    ##读出用户昵称, 用户发文时间,发文内容\n",
    "                    for post in page:    \n",
    "                        nick.append(post['trackback_author_nick'])\n",
    "                        date.append(post['trackback_date'])\n",
    "                        content.append(post['content'])\n",
    "                except:\n",
    "                    print('here')\n",
    "    df['nick'] = nick\n",
    "    df['date'] = date\n",
    "    df['content'] = content\n",
    "    return df"
   ]
  },
  {
   "cell_type": "markdown",
   "metadata": {},
   "source": [
    "### 统计地震前后的数据"
   ]
  },
  {
   "cell_type": "code",
   "execution_count": 245,
   "metadata": {},
   "outputs": [
    {
     "name": "stdout",
     "output_type": "stream",
     "text": [
      "here\n",
      "here\n",
      "here\n",
      "here\n"
     ]
    },
    {
     "data": {
      "text/html": [
       "<div>\n",
       "<style scoped>\n",
       "    .dataframe tbody tr th:only-of-type {\n",
       "        vertical-align: middle;\n",
       "    }\n",
       "\n",
       "    .dataframe tbody tr th {\n",
       "        vertical-align: top;\n",
       "    }\n",
       "\n",
       "    .dataframe thead th {\n",
       "        text-align: right;\n",
       "    }\n",
       "</style>\n",
       "<table border=\"1\" class=\"dataframe\">\n",
       "  <thead>\n",
       "    <tr style=\"text-align: right;\">\n",
       "      <th></th>\n",
       "      <th>nick</th>\n",
       "      <th>date</th>\n",
       "      <th>content</th>\n",
       "    </tr>\n",
       "  </thead>\n",
       "  <tbody>\n",
       "    <tr>\n",
       "      <th>0</th>\n",
       "      <td>therealjuliann</td>\n",
       "      <td>1299216297</td>\n",
       "      <td>Never be ashamed of who you are. Be ashamed of...</td>\n",
       "    </tr>\n",
       "    <tr>\n",
       "      <th>1</th>\n",
       "      <td>ciara</td>\n",
       "      <td>1299216630</td>\n",
       "      <td>Look what I found..MB, Ciara, Lil Twist and Ty...</td>\n",
       "    </tr>\n",
       "    <tr>\n",
       "      <th>2</th>\n",
       "      <td>hugogloss</td>\n",
       "      <td>1299216508</td>\n",
       "      <td>kkkkkkkkkkkkkkkkk http://migre.me/3ZfrG D-I-V-A!!</td>\n",
       "    </tr>\n",
       "    <tr>\n",
       "      <th>3</th>\n",
       "      <td>yahoo</td>\n",
       "      <td>1299214854</td>\n",
       "      <td>Kim Kardashian&amp;#39;s new song: &amp;quot;makes Ke$...</td>\n",
       "    </tr>\n",
       "    <tr>\n",
       "      <th>4</th>\n",
       "      <td>iamdiddy</td>\n",
       "      <td>1299215461</td>\n",
       "      <td>&amp;quot;The hardest thing to do is watch the one...</td>\n",
       "    </tr>\n",
       "  </tbody>\n",
       "</table>\n",
       "</div>"
      ],
      "text/plain": [
       "             nick        date  \\\n",
       "0  therealjuliann  1299216297   \n",
       "1           ciara  1299216630   \n",
       "2       hugogloss  1299216508   \n",
       "3           yahoo  1299214854   \n",
       "4        iamdiddy  1299215461   \n",
       "\n",
       "                                             content  \n",
       "0  Never be ashamed of who you are. Be ashamed of...  \n",
       "1  Look what I found..MB, Ciara, Lil Twist and Ty...  \n",
       "2  kkkkkkkkkkkkkkkkk http://migre.me/3ZfrG D-I-V-A!!  \n",
       "3  Kim Kardashian&#39;s new song: &quot;makes Ke$...  \n",
       "4  &quot;The hardest thing to do is watch the one...  "
      ]
     },
     "execution_count": 245,
     "metadata": {},
     "output_type": "execute_result"
    }
   ],
   "source": [
    "ENall = readjson('./附件/附件1-ENalljson/')\n",
    "JPall = readjson('./附件/附件2-JPalljson/')\n",
    "\n",
    "\n",
    "ENallB = ENall[ENall['date']<1299822360]\n",
    "ENallA = ENall[ENall['date']>1299822360]\n",
    "\n",
    "JPallB = JPall[JPall['date']<1299822360]\n",
    "JPallA = JPall[JPall['date']>1299822360]\n",
    "\n",
    "\n",
    "ENall.head()"
   ]
  },
  {
   "cell_type": "code",
   "execution_count": 246,
   "metadata": {},
   "outputs": [
    {
     "name": "stdout",
     "output_type": "stream",
     "text": [
      "                   nick        date  \\\n",
      "0                 qanow  1299216182   \n",
      "1                hatebu  1299217565   \n",
      "2              mokuzen1  1299217244   \n",
      "3                2chmtm  1299217502   \n",
      "4            kokoro3916  1299217724   \n",
      "5                  qma6  1299215598   \n",
      "6          kettaro_nico  1299218039   \n",
      "7              soi_4sca  1299216327   \n",
      "8               ksorano  1299216786   \n",
      "9             hirougaya  1299215386   \n",
      "10                tsuda  1299217269   \n",
      "11             soi_4sca  1299216327   \n",
      "12             s_uemura  1299216165   \n",
      "13           ishikaries  1299214934   \n",
      "14          kaidokuchan  1299218427   \n",
      "15            koshi2353  1299217727   \n",
      "16         lady_smoker_  1299215501   \n",
      "17       yomiuri_online  1299217107   \n",
      "18         nikkeionline  1299214863   \n",
      "19           2ch_matome  1299216293   \n",
      "20             psptakeo  1299216994   \n",
      "21                 vgvd  1299215489   \n",
      "22         nikkeionline  1299216666   \n",
      "23           tired_nova  1299216558   \n",
      "24                 baoh  1299214973   \n",
      "25         nikkeionline  1299214869   \n",
      "26                asahi  1299215767   \n",
      "27                kohmi  1299215898   \n",
      "28                tsuda  1299218026   \n",
      "29         amatorecordz  1299218179   \n",
      "...                 ...         ...   \n",
      "157043      yoshitaka_w  1300357730   \n",
      "157044    kenta_akasaka  1300357138   \n",
      "157045  soulflowerunion  1300358515   \n",
      "157046          hanayuu  1300357484   \n",
      "157047        sabakuinu  1300357814   \n",
      "157048         801_chan  1300357486   \n",
      "157049       minako2009  1300357070   \n",
      "157050       minako2009  1300358385   \n",
      "157051       mougennsya  1300357864   \n",
      "157052      levinassien  1300358733   \n",
      "157053         maji1985  1300358697   \n",
      "157054         genthalf  1300357480   \n",
      "157055   shinpei_strtnr  1300357445   \n",
      "157056     bilderberg54  1300358772   \n",
      "157057      hotateyasan  1300357769   \n",
      "157058        yurikalin  1300358139   \n",
      "157059       oohamazaki  1300357331   \n",
      "157060       oohamazaki  1300357331   \n",
      "157061          hanayuu  1300358384   \n",
      "157062        shouhyou1  1300357361   \n",
      "157063       oohamazaki  1300358665   \n",
      "157064              801  1300358070   \n",
      "157065    kahoku_shimpo  1300357681   \n",
      "157066      hotateyasan  1300357736   \n",
      "157067          hanayuu  1300357478   \n",
      "157068          yosdady  1300358720   \n",
      "157069      hotateyasan  1300357736   \n",
      "157070        mairi0126  1300358074   \n",
      "157071         fksminpo  1300357109   \n",
      "157072         fksminpo  1300357226   \n",
      "\n",
      "                                                  content  \n",
      "0       ぬいぐるみってどうやって片付ける？UFOキャッチャーの景品が大量にあるんだけども(´ｰω-)...  \n",
      "1       関連性（Relevance）の時代の幕開け  (105 users) http://bit....  \n",
      "2       子はもちろんかわいいんだけど疲れてるといい事が有るかも．だいぶ先だけど女子制服というプレイが...  \n",
      "3         ＪＣだけど何か質問ある？≧▽≦⇒ http://labo.tv/2chnews/r/65442  \n",
      "4       RT @ikeikey: 「もう二度とすんなよ。来年、、また来い」って言って被害届を取り下げ...  \n",
      "5       RT @xx39xx1027: 【拡散希望】\\n友達の妹が片目失明した。原因は海外製コンタク...  \n",
      "6          RT @0810mucchi: 俺に出来ないことはない 天才なのかもしれない  byけったろ  \n",
      "7       RT @Cheetar_1222: twittbotはどうやらなんか障害が発生してメンテのよ...  \n",
      "8       RT @dfnt: ニンテンドー3DSの3D表示を2Dに戻した時の安心感は海外旅行から帰って...  \n",
      "9       京都大学も教育機関を自認するなら「刑事処分が決まって出直すなら、いつでも入試を受けにおいで。...  \n",
      "10      昨日の深夜から今日にかけて久しぶりにたくさんTwitterしたけど、それでわかったのは「俺の...  \n",
      "11      RT @Cheetar_1222: twittbotはどうやらなんか障害が発生してメンテのよ...  \n",
      "12      RT @realizewakayama: 「遊ぶ人」程、成功できる。すなわち、業務から離れる...  \n",
      "13      RT @Satomii_Opera: 渡辺謙がスマートフォンに扮するドコモのCMがあるけど、...  \n",
      "14      @yossan_twt ゴルフって やったことないけど ゴルフ脳って本は殿方のお勉強になるわ...  \n",
      "15      痛PSP,ver五和の表完成!!!!!ボタンのとことかグチャグチャだけどwwwwww htt...  \n",
      "16      まずは一号の定義から聞けばよかったのにw http://nico.ms/lv42252182...  \n",
      "17      RT @yomiDr: 自分の親の介護が必要になったときに、住んでいる所の近くに預ける施設が...  \n",
      "18      怪獣、仏像、たぬきうどん　趣味に負けない京都の味 みうらじゅんさん http://s.nik...  \n",
      "19              #2ch ちょっとお願いがあるんだけど… http://bit.ly/f7qfV1  \n",
      "20      残り2日！ 【協力願い】投票のご協力をお願いします！！拡散してくれるとうれしいです！  ht...  \n",
      "21                   さっきから食べてるんだけどなー。http://bit.ly/eLObxn  \n",
      "22      『胸を張れＩＴモグラ』　第53話　戦略 対 現実 http://s.nikkei.com/i...  \n",
      "23                 え う…牛ですか!?\\n http://twitpic.com/45w4tq  \n",
      "24      「わたしが提供できるのは場です。その場はオープンです」ってことだけど、場なら、twitter...  \n",
      "25      映画館(下)連れは配偶者最多、作品選択は女性が主導 http://s.nikkei.com/...  \n",
      "26      「リンゴ病」流行の兆し　９割が子ども、難しい感染予防 http://t.asahi.com/...  \n",
      "27      おーーとーーもーーだーーちーーのーーみーーなーーさーーまーー！！でけたーーでけたーーー「お歌...  \n",
      "28      大人の階段を一歩上りましたね。 RT @g_shari: 紙本もアプリも購入した！ほめてくだ...  \n",
      "29                  ムネハル 修理なーう！ http://twitpic.com/45wc3a  \n",
      "...                                                   ...  \n",
      "157043  RT @fidelstar: @yoshitaka_w ソビエトには大祖国戦争の歴史があり、...  \n",
      "157044  【マメ知識】Q：どうして、サカキがサトシのピカチュウを欲しがるのか？ A：アニメ第１話でピカ...  \n",
      "157045  RT @koshikawa1: 被災された方々へ。魚津市議会議員の越川隆文です。富山県魚津市...  \n",
      "157046  RT @hanekiyo: 本当なら情けない…。 RT @sanyuujin: で、沈黙？腐...  \n",
      "157047  投下前と投下後の放射線量は大きく変わらず、十分な効果はなかったもよう。東京・市谷の防衛省で見...  \n",
      "157048  RT @KinoUmeda: （承前）雑誌や新刊書籍につきましても、発売の延期や中止が目立ち...  \n",
      "157049  RT @jiro_ishii: たまに勘違いしてる人がいる様ですが、計画停電してる地域がある...  \n",
      "157050  RT @minnano_tikara: 自分が不安なとき、「言ってほしい言葉」があると思いま...  \n",
      "157051  RT @YU419YU: @artifataCHIKA 友人が福島に帰省中災害に遭い南相馬市...  \n",
      "157052  それから共同通信の取材。道場共同体を構築する意味についてお話ししました。道場共同体は職域横断...  \n",
      "157053  RT @hiro_style1999: 仙谷が再入閣。 たぶん、中国漁船衝突事件のように福島...  \n",
      "157054  .@thoton というのは #genpatsu #jisin #jishin #seoul...  \n",
      "157055  RT @nhk_seikatsu: 【節電】枝野官房長官、午後7時前に会見。「計画停電などを...  \n",
      "157056  RT @rengepapa: 広瀬隆氏メール転送／テレビを絶対に信用しないで下さい。恐ろしい...  \n",
      "157057  ねっ♪♪ RT @TakamiyaGreenC: 博多から賛成！早く繋がりましょう！RT @...  \n",
      "157058  RT @atsushiabe: ヒステリックすぎる気もするが、日本人隠蔽体質がこれで詳らかに...  \n",
      "157059  RT @Odradek0jp: @oohamazaki ＠urayasu_koho 救援物資...  \n",
      "157060  RT @Odradek0jp: @oohamazaki ＠urayasu_koho 救援物資...  \n",
      "157061  RT @h_hirano: 避難所に自衛隊がジープできて、ある隊員はこう発言。「私達は上の命...  \n",
      "157062  RT @Yuisuccess58: 責任追及は責任回避と表裏一体。そこにあるのは他者と自己と...  \n",
      "157063  即応予備自衛官と予備自衛官が召集されました。NHKに出てた相原さん、偉いな。家がボロボロなの...  \n",
      "157064  RT @y_yoshito: 【ＲＴのお願い！】安否の確認できない友人に関するかもしれない情...  \n",
      "157065  （つづき）生活情報【支援】仙台市に他市町村から避難している妊婦は、住民票がなくても母子健康手...  \n",
      "157066  RT @TakamiyaGreenC: 博多から賛成！早く繋がりましょう！RT @saita...  \n",
      "157067  RT @mankin911: 憐呆、枝野、寺田等仕分け議員を仕分けすべきだな！RT @yat...  \n",
      "157068  RT @hzero178: 今停電最中の街を抜けて車で帰ってきた。無点灯で自転車に乗っている...  \n",
      "157069  RT @TakamiyaGreenC: 博多から賛成！早く繋がりましょう！RT @saita...  \n",
      "157070  RT @terasarada: 【エスカバを探せ！】ばかばっかばかばっかえすばかばかばえすっ...  \n",
      "157071  【ごみ収集③】（再掲）●田村＝一般ごみは田村東部環境センター、田村市船引清掃センターに直接搬...  \n",
      "157072  【避難所】塙町　０２４７（４３）２１１１。塙町公民館に６５人（いわき市、南相馬市、浪江町）、...  \n",
      "\n",
      "[157073 rows x 3 columns]\n"
     ]
    }
   ],
   "source": [
    "print(JPall)"
   ]
  },
  {
   "cell_type": "markdown",
   "metadata": {},
   "source": [
    "# 网络构建"
   ]
  },
  {
   "cell_type": "code",
   "execution_count": 247,
   "metadata": {},
   "outputs": [],
   "source": [
    "import networkx as nx"
   ]
  },
  {
   "cell_type": "code",
   "execution_count": 248,
   "metadata": {
    "scrolled": true
   },
   "outputs": [],
   "source": [
    "def bulid_net(df):\n",
    "    G = nx.Graph()\n",
    "    for row in df.index:\n",
    "        record = df.loc[row]\n",
    "        c_nick = record['nick']\n",
    "        \n",
    "        \n",
    "        if c_nick in G:\n",
    "            pass\n",
    "        else:\n",
    "            G.add_node(c_nick)\n",
    "\n",
    "       \n",
    "        content = str(record['content'])\n",
    "        if content:\n",
    "            \n",
    "             ##检查发文中是否@其他人\n",
    "            inds = [m.start() for m in re.finditer('@', content)]\n",
    "            \n",
    "            ##找到用户a@的人用户b\n",
    "            for ind in inds:\n",
    "                ind = content.index('@')\n",
    "                n_nick = \"\"\n",
    "                while content[ind]!=' 'and content[ind] != ':' and ind < len(content) - 1:\n",
    "                    ind = ind + 1\n",
    "                    n_nick+=content[ind]\n",
    "\n",
    "#                 如果@的用户已经在网络中\n",
    "                if n_nick in G:\n",
    "                    pass\n",
    "                else:\n",
    "                    G.add_node(n_nick)\n",
    "\n",
    "#                 用户之间建立边\n",
    "                G.add_edge(c_nick, n_nick)\n",
    "            \n",
    "\n",
    "    return G"
   ]
  },
  {
   "cell_type": "code",
   "execution_count": 268,
   "metadata": {},
   "outputs": [],
   "source": [
    "def drop_diff_point(G1,G2):\n",
    "    for node in list(G1.nodes()):\n",
    "        if node not in G2:\n",
    "            G1.remove_node(node)\n",
    "    for node in list(G2.nodes()):\n",
    "        if node not in G1:\n",
    "            G2.remove_node(node)\n",
    "    return G1,G2 "
   ]
  },
  {
   "cell_type": "code",
   "execution_count": 269,
   "metadata": {},
   "outputs": [],
   "source": [
    "\n",
    "EnBG = bulid_net(ENallB)\n",
    "EnAG = bulid_net(ENallA)\n",
    "\n",
    "JpBG = bulid_net(JPallB)\n",
    "JpAG = bulid_net(JPallA)\n"
   ]
  },
  {
   "cell_type": "code",
   "execution_count": 270,
   "metadata": {},
   "outputs": [],
   "source": [
    "EnBG,EnAG = drop_diff_point(EnBG,EnAG)\n",
    "JpBG,JpAG = drop_diff_point(JpBG,JpAG)"
   ]
  },
  {
   "cell_type": "code",
   "execution_count": 271,
   "metadata": {},
   "outputs": [],
   "source": [
    "nx.write_gml(EnBG,\"Filename1.gml\")\n",
    "nx.write_gml(EnAG,\"Filename2.gml\")\n",
    "nx.write_gml(JpBG,\"Filename3.gml\")\n",
    "nx.write_gml(JpAG,\"Filename4.gml\")"
   ]
  },
  {
   "cell_type": "markdown",
   "metadata": {},
   "source": [
    "# 网络分析"
   ]
  },
  {
   "cell_type": "code",
   "execution_count": 272,
   "metadata": {},
   "outputs": [],
   "source": [
    "#输出网络平均度\n",
    "def average_deg(G,name):\n",
    "    d = nx.degree(G)\n",
    "    d=dict(d)\n",
    "    print(name + \"平均度\")\n",
    "    print(np.array(list(d.values())).mean())\n",
    "    \n",
    "#输出最大联通片 \n",
    "def largest_com(G,name):\n",
    "    largest_components=max(nx.connected_components(G),key=len) \n",
    "    print(name + \"的最大联通成分的大小为\",end = '')\n",
    "    print(len(largest_components))\n",
    "\n",
    "#输出平均群聚系数\n",
    "def average_clu(G,name):\n",
    "    c = nx.average_clustering(G)\n",
    "    print(name + \"的平均群聚系数:\",end = '')\n",
    "    print(c)"
   ]
  },
  {
   "cell_type": "code",
   "execution_count": 273,
   "metadata": {},
   "outputs": [
    {
     "name": "stdout",
     "output_type": "stream",
     "text": [
      "英语使用者地震前平均度\n",
      "1.4702046323364066\n",
      "英语使用者地震前的最大联通成分的大小为2254\n",
      "英语使用者地震前的平均群聚系数:0.0\n",
      "\n",
      "英语使用者地震后平均度\n",
      "1.5821902406116484\n",
      "英语使用者地震后的最大联通成分的大小为2500\n",
      "英语使用者地震后的平均群聚系数:0.002309645312405766\n",
      "\n",
      "日语使用者地震前平均度\n",
      "1.989838043823436\n",
      "日语使用者地震前的最大联通成分的大小为3640\n",
      "日语使用者地震前的平均群聚系数:0.00034494386375158556\n",
      "\n",
      "日语使用者地震后平均度\n",
      "3.6519530009526835\n",
      "日语使用者地震后的最大联通成分的大小为4526\n",
      "日语使用者地震后的平均群聚系数:0.00031183398189455033\n"
     ]
    }
   ],
   "source": [
    "average_deg(EnBG,'英语使用者地震前')\n",
    "largest_com(EnBG,'英语使用者地震前')\n",
    "average_clu(EnBG,'英语使用者地震前')\n",
    "print()\n",
    "\n",
    "average_deg(EnAG,'英语使用者地震后')\n",
    "largest_com(EnAG,'英语使用者地震后')\n",
    "average_clu(EnAG,'英语使用者地震后')\n",
    "print()\n",
    "average_deg(JpBG,'日语使用者地震前')\n",
    "largest_com(JpBG,'日语使用者地震前')\n",
    "average_clu(JpBG,'日语使用者地震前')\n",
    "print()\n",
    "average_deg(JpAG,'日语使用者地震后')\n",
    "largest_com(JpAG,'日语使用者地震后')\n",
    "average_clu(JpAG,'日语使用者地震后')"
   ]
  },
  {
   "cell_type": "code",
   "execution_count": 262,
   "metadata": {},
   "outputs": [],
   "source": [
    "def individualdegree(G1,G2,name):\n",
    "    nodes1 = G1.nodes()\n",
    "    nodes2 = G2.nodes()\n",
    "    degree1 = []\n",
    "    degree2 = []\n",
    "    for node in nodes1:\n",
    "        if node in nodes2:\n",
    "            degree1.append(G1.degree(node))\n",
    "            degree2.append(G2.degree(node))\n",
    "#     plt.scatter(degree1,degree2)#在双对坐标轴上绘制度分布曲线\n",
    "#     plt.subplot(121)\n",
    "    plt.xlabel('before')\n",
    "    plt.ylabel('after')\n",
    "    plt.title( name)\n",
    "    plt.loglog(degree1,degree2,'o')#在双对坐标轴上绘制度分布曲线\n",
    "    plt.show()"
   ]
  },
  {
   "cell_type": "code",
   "execution_count": 263,
   "metadata": {},
   "outputs": [],
   "source": [
    "#接下来做累积度分布\n",
    "def cumlutive_degree_distribution(G):\n",
    "    degree = []\n",
    "    list = dict(G.degree())\n",
    "    for each_node in list:\n",
    "        degree.append(list[each_node])\n",
    "    xs = degree\n",
    "    distKeys = range(min(xs), max(xs) + 1)\n",
    "    pdf = dict([(k, 0) for k in distKeys])\n",
    "    for x in xs:\n",
    "        pdf[x] += 1\n",
    "    pdf_temp=pdf\n",
    "    scope = range(min(pdf),max(pdf)+1)\n",
    "    for degree in scope:\n",
    "        k=degree+1\n",
    "        while k<=max(pdf):\n",
    "            pdf[degree]+=pdf_temp[k]\n",
    "            k+=1\n",
    "    return pdf\n",
    "#根据（图，名称，度列表，返回一个度分布图）\n",
    "def draw_degree_chart(G1,G2,name):\n",
    "    # degree=nx.degree_histogram(G)#返回图中所有节点的度分布序列\n",
    "    degree1 = cumlutive_degree_distribution(G1)\n",
    "    degree2 = cumlutive_degree_distribution(G2)\n",
    "    \n",
    "    \n",
    "    y1 = np.array(list(degree1.values()))\n",
    "    y2 = np.array(list(degree2.values()))\n",
    "\n",
    "    y1 = y1/y1[0]#将频次转化为频率，利用列表内涵\n",
    "    y2 = y2/y2[0]#将频次转化为频率，利用列表内涵\n",
    "    \n",
    "    x1=range(len(degree1))#生成 X 轴序列，从 1 到最大度\n",
    "    x2=range(len(degree2))#生成 X 轴序列，从 1 到最大度\n",
    "\n",
    "    line1 = plt.loglog(x1, y1,'r^') # 在双对坐标轴上绘制度分布曲线\n",
    "    line2 = plt.loglog(x2, y2, 'g^') # 在双对坐标轴上绘制度分布曲线\n",
    "    \n",
    "    plt.legend(line1, (\"before\"))\n",
    "    plt.legend(line2, (\"after\"))\n",
    "    \n",
    "    \n",
    "    plt.title( name)\n",
    "    plt.show()#显示图表"
   ]
  },
  {
   "cell_type": "markdown",
   "metadata": {},
   "source": [
    "### 个人层面对比图"
   ]
  },
  {
   "cell_type": "code",
   "execution_count": 264,
   "metadata": {},
   "outputs": [
    {
     "data": {
      "image/png": "[encoded data removed]",
      "text/plain": [
       "<matplotlib.figure.Figure at 0x1c18ef4b198>"
      ]
     },
     "metadata": {},
     "output_type": "display_data"
    }
   ],
   "source": [
    "individualdegree(EnBG,EnAG,\"EN\")"
   ]
  },
  {
   "cell_type": "code",
   "execution_count": 265,
   "metadata": {},
   "outputs": [
    {
     "data": {
      "image/png": "[encoded data removed]",
      "text/plain": [
       "<matplotlib.figure.Figure at 0x1c18eb724e0>"
      ]
     },
     "metadata": {},
     "output_type": "display_data"
    }
   ],
   "source": [
    "individualdegree(JpBG,JpAG,\"JP\")"
   ]
  },
  {
   "cell_type": "markdown",
   "metadata": {},
   "source": [
    "### 累积度对比图"
   ]
  },
  {
   "cell_type": "code",
   "execution_count": 266,
   "metadata": {},
   "outputs": [
    {
     "data": {
      "image/png": "[encoded data removed]",
      "text/plain": [
       "<matplotlib.figure.Figure at 0x1c18e94f4e0>"
      ]
     },
     "metadata": {},
     "output_type": "display_data"
    }
   ],
   "source": [
    "draw_degree_chart(EnBG,EnAG,\"EN\")"
   ]
  },
  {
   "cell_type": "code",
   "execution_count": 267,
   "metadata": {},
   "outputs": [
    {
     "data": {
      "image/png": "[encoded data removed]",
      "text/plain": [
       "<matplotlib.figure.Figure at 0x1c18eb72518>"
      ]
     },
     "metadata": {},
     "output_type": "display_data"
    }
   ],
   "source": [
    "draw_degree_chart(JpBG,JpAG,\"JP\")"
   ]
  },
  {
   "cell_type": "code",
   "execution_count": null,
   "metadata": {},
   "outputs": [],
   "source": []
  }
 ],
 "metadata": {
  "kernelspec": {
   "display_name": "Python 3",
   "language": "python",
   "name": "python3"
  },
  "language_info": {
   "codemirror_mode": {
    "name": "ipython",
    "version": 3
   },
   "file_extension": ".py",
   "mimetype": "text/x-python",
   "name": "python",
   "nbconvert_exporter": "python",
   "pygments_lexer": "ipython3",
   "version": "3.6.4"
  }
 },
 "nbformat": 4,
 "nbformat_minor": 2
}
