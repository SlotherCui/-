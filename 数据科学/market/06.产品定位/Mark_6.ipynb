{
 "cells": [
  {
   "cell_type": "code",
   "execution_count": 13,
   "metadata": {},
   "outputs": [],
   "source": [
    "import pandas as pd  \n",
    "import numpy as np \n",
    "from collections import Counter\n"
   ]
  },
  {
   "cell_type": "markdown",
   "metadata": {},
   "source": [
    "# 加载数据"
   ]
  },
  {
   "cell_type": "code",
   "execution_count": 14,
   "metadata": {},
   "outputs": [
    {
     "data": {
      "text/html": [
       "<div>\n",
       "<style scoped>\n",
       "    .dataframe tbody tr th:only-of-type {\n",
       "        vertical-align: middle;\n",
       "    }\n",
       "\n",
       "    .dataframe tbody tr th {\n",
       "        vertical-align: top;\n",
       "    }\n",
       "\n",
       "    .dataframe thead th {\n",
       "        text-align: right;\n",
       "    }\n",
       "</style>\n",
       "<table border=\"1\" class=\"dataframe\">\n",
       "  <thead>\n",
       "    <tr style=\"text-align: right;\">\n",
       "      <th></th>\n",
       "      <th>id</th>\n",
       "      <th>nnights</th>\n",
       "      <th>nadults</th>\n",
       "      <th>nchildren</th>\n",
       "      <th>planning</th>\n",
       "      <th>sex</th>\n",
       "      <th>age</th>\n",
       "      <th>education</th>\n",
       "      <th>income</th>\n",
       "      <th>region</th>\n",
       "      <th>...</th>\n",
       "      <th>helicopter</th>\n",
       "      <th>horseride</th>\n",
       "      <th>standrock</th>\n",
       "      <th>outattract</th>\n",
       "      <th>nearbyattract</th>\n",
       "      <th>movietheater</th>\n",
       "      <th>concerttheater</th>\n",
       "      <th>barpubdance</th>\n",
       "      <th>shopbroadway</th>\n",
       "      <th>bungeejumping</th>\n",
       "    </tr>\n",
       "  </thead>\n",
       "  <tbody>\n",
       "    <tr>\n",
       "      <th>0</th>\n",
       "      <td>1</td>\n",
       "      <td>3</td>\n",
       "      <td>2</td>\n",
       "      <td>3</td>\n",
       "      <td>This Month</td>\n",
       "      <td>Female</td>\n",
       "      <td>35-44</td>\n",
       "      <td>HS Grad or Less</td>\n",
       "      <td>Lower Income</td>\n",
       "      <td>Other</td>\n",
       "      <td>...</td>\n",
       "      <td>NO</td>\n",
       "      <td>NO</td>\n",
       "      <td>NO</td>\n",
       "      <td>NO</td>\n",
       "      <td>NO</td>\n",
       "      <td>NO</td>\n",
       "      <td>NO</td>\n",
       "      <td>NO</td>\n",
       "      <td>YES</td>\n",
       "      <td>NO</td>\n",
       "    </tr>\n",
       "    <tr>\n",
       "      <th>1</th>\n",
       "      <td>2</td>\n",
       "      <td>3</td>\n",
       "      <td>4</td>\n",
       "      <td>5+</td>\n",
       "      <td>One Month or More Ago</td>\n",
       "      <td>Male</td>\n",
       "      <td>35-44</td>\n",
       "      <td>College Grad</td>\n",
       "      <td>NaN</td>\n",
       "      <td>Minneapolis/StPaul</td>\n",
       "      <td>...</td>\n",
       "      <td>NO</td>\n",
       "      <td>NO</td>\n",
       "      <td>YES</td>\n",
       "      <td>YES</td>\n",
       "      <td>YES</td>\n",
       "      <td>NO</td>\n",
       "      <td>NO</td>\n",
       "      <td>NO</td>\n",
       "      <td>NO</td>\n",
       "      <td>NO</td>\n",
       "    </tr>\n",
       "    <tr>\n",
       "      <th>2</th>\n",
       "      <td>3</td>\n",
       "      <td>4+</td>\n",
       "      <td>2</td>\n",
       "      <td>2</td>\n",
       "      <td>One Month or More Ago</td>\n",
       "      <td>Male</td>\n",
       "      <td>35-44</td>\n",
       "      <td>College Grad</td>\n",
       "      <td>Lower Income</td>\n",
       "      <td>Chicago</td>\n",
       "      <td>...</td>\n",
       "      <td>NO</td>\n",
       "      <td>YES</td>\n",
       "      <td>YES</td>\n",
       "      <td>YES</td>\n",
       "      <td>YES</td>\n",
       "      <td>NO</td>\n",
       "      <td>YES</td>\n",
       "      <td>NO</td>\n",
       "      <td>YES</td>\n",
       "      <td>NO</td>\n",
       "    </tr>\n",
       "    <tr>\n",
       "      <th>3</th>\n",
       "      <td>4</td>\n",
       "      <td>3</td>\n",
       "      <td>1</td>\n",
       "      <td>1</td>\n",
       "      <td>This Month</td>\n",
       "      <td>Female</td>\n",
       "      <td>35-44</td>\n",
       "      <td>Post Grad</td>\n",
       "      <td>Lower Income</td>\n",
       "      <td>Chicago</td>\n",
       "      <td>...</td>\n",
       "      <td>NO</td>\n",
       "      <td>NO</td>\n",
       "      <td>NO</td>\n",
       "      <td>YES</td>\n",
       "      <td>YES</td>\n",
       "      <td>NO</td>\n",
       "      <td>NO</td>\n",
       "      <td>NO</td>\n",
       "      <td>NO</td>\n",
       "      <td>NO</td>\n",
       "    </tr>\n",
       "    <tr>\n",
       "      <th>4</th>\n",
       "      <td>5</td>\n",
       "      <td>4+</td>\n",
       "      <td>5+</td>\n",
       "      <td>5+</td>\n",
       "      <td>One Month or More Ago</td>\n",
       "      <td>Female</td>\n",
       "      <td>35-44</td>\n",
       "      <td>Post Grad</td>\n",
       "      <td>NaN</td>\n",
       "      <td>Other</td>\n",
       "      <td>...</td>\n",
       "      <td>NO</td>\n",
       "      <td>NO</td>\n",
       "      <td>YES</td>\n",
       "      <td>YES</td>\n",
       "      <td>NO</td>\n",
       "      <td>NO</td>\n",
       "      <td>NO</td>\n",
       "      <td>NO</td>\n",
       "      <td>YES</td>\n",
       "      <td>NO</td>\n",
       "    </tr>\n",
       "  </tbody>\n",
       "</table>\n",
       "<p>5 rows × 43 columns</p>\n",
       "</div>"
      ],
      "text/plain": [
       "   id nnights nadults nchildren               planning     sex    age  \\\n",
       "0   1       3       2         3             This Month  Female  35-44   \n",
       "1   2       3       4        5+  One Month or More Ago    Male  35-44   \n",
       "2   3      4+       2         2  One Month or More Ago    Male  35-44   \n",
       "3   4       3       1         1             This Month  Female  35-44   \n",
       "4   5      4+      5+        5+  One Month or More Ago  Female  35-44   \n",
       "\n",
       "         education        income              region      ...      helicopter  \\\n",
       "0  HS Grad or Less  Lower Income               Other      ...              NO   \n",
       "1     College Grad           NaN  Minneapolis/StPaul      ...              NO   \n",
       "2     College Grad  Lower Income             Chicago      ...              NO   \n",
       "3        Post Grad  Lower Income             Chicago      ...              NO   \n",
       "4        Post Grad           NaN               Other      ...              NO   \n",
       "\n",
       "  horseride standrock outattract nearbyattract movietheater concerttheater  \\\n",
       "0        NO        NO         NO            NO           NO             NO   \n",
       "1        NO       YES        YES           YES           NO             NO   \n",
       "2       YES       YES        YES           YES           NO            YES   \n",
       "3        NO        NO        YES           YES           NO             NO   \n",
       "4        NO       YES        YES            NO           NO             NO   \n",
       "\n",
       "  barpubdance shopbroadway bungeejumping  \n",
       "0          NO          YES            NO  \n",
       "1          NO           NO            NO  \n",
       "2          NO          YES            NO  \n",
       "3          NO           NO            NO  \n",
       "4          NO          YES            NO  \n",
       "\n",
       "[5 rows x 43 columns]"
      ]
     },
     "execution_count": 14,
     "metadata": {},
     "output_type": "execute_result"
    }
   ],
   "source": [
    "data = pd.read_csv('wisconsin_dells.csv')\n",
    "\n",
    "data.head()"
   ]
  },
  {
   "cell_type": "markdown",
   "metadata": {},
   "source": [
    "# 生成二进制活动矩阵"
   ]
  },
  {
   "cell_type": "code",
   "execution_count": 15,
   "metadata": {},
   "outputs": [
    {
     "name": "stdout",
     "output_type": "stream",
     "text": [
      "Index(['shopping', 'antiquing', 'scenery', 'eatfine', 'eatcasual',\n",
      "       'eatfamstyle', 'eatfastfood', 'museums', 'indoorpool', 'outdoorpool',\n",
      "       'hiking', 'gambling', 'boatswim', 'fishing', 'golfing', 'boattours',\n",
      "       'rideducks', 'amusepark', 'minigolf', 'gocarting', 'waterpark',\n",
      "       'circusworld', 'tbskishow', 'helicopter', 'horseride', 'standrock',\n",
      "       'outattract', 'nearbyattract', 'movietheater', 'concerttheater',\n",
      "       'barpubdance', 'shopbroadway', 'bungeejumping'],\n",
      "      dtype='object')\n"
     ]
    },
    {
     "data": {
      "text/plain": [
       "array([[1, 1, 1, ..., 1, 1, 1],\n",
       "       [0, 0, 0, ..., 0, 0, 0],\n",
       "       [1, 1, 1, ..., 1, 1, 1],\n",
       "       ...,\n",
       "       [0, 0, 0, ..., 1, 0, 0],\n",
       "       [1, 0, 1, ..., 0, 1, 1],\n",
       "       [0, 0, 0, ..., 0, 0, 0]])"
      ]
     },
     "execution_count": 15,
     "metadata": {},
     "output_type": "execute_result"
    }
   ],
   "source": [
    "binary_activity_data_frame  = pd.DataFrame()\n",
    "\n",
    "for column in data.columns[10:]:\n",
    "    binary_activity_data_frame[column]=(data[column]=='YES').astype('int') \n",
    "    \n",
    "binary_activity_matrix = binary_activity_data_frame.as_matrix().T\n",
    "\n",
    "print(data.columns[10:])\n",
    "binary_activity_matrix"
   ]
  },
  {
   "cell_type": "markdown",
   "metadata": {},
   "source": [
    "# 求距离矩阵(曼哈顿距离)"
   ]
  },
  {
   "cell_type": "code",
   "execution_count": 17,
   "metadata": {},
   "outputs": [
    {
     "data": {
      "text/plain": [
       "array([[   0., 1082.,  547., ..., 1033.,  338., 1277.],\n",
       "       [1082.,    0.,  967., ...,  553.,  976.,  399.],\n",
       "       [ 547.,  967.,    0., ...,  948.,  609., 1118.],\n",
       "       ...,\n",
       "       [1033.,  553.,  948., ...,    0.,  901.,  462.],\n",
       "       [ 338.,  976.,  609., ...,  901.,    0., 1141.],\n",
       "       [1277.,  399., 1118., ...,  462., 1141.,    0.]])"
      ]
     },
     "execution_count": 17,
     "metadata": {},
     "output_type": "execute_result"
    }
   ],
   "source": [
    "from sklearn.metrics.pairwise import manhattan_distances\n",
    "distance_matrix = manhattan_distances(binary_activity_matrix)\n",
    "distance_matrix    "
   ]
  },
  {
   "cell_type": "markdown",
   "metadata": {},
   "source": [
    "# MDS降维"
   ]
  },
  {
   "cell_type": "code",
   "execution_count": 24,
   "metadata": {
    "scrolled": true
   },
   "outputs": [
    {
     "name": "stdout",
     "output_type": "stream",
     "text": [
      "[[ 257.17842073 -664.85197657]\n",
      " [-322.85929303  518.4121569 ]\n",
      " [  27.69196469 -553.00049186]\n",
      " [-410.34538199   58.84301133]\n",
      " [ 475.74069929 -266.07190077]\n",
      " [ 307.90450439 -488.06988726]\n",
      " [-470.39334113 -413.49119878]\n",
      " [ 455.08365551  -81.30489349]\n",
      " [-229.81384433 -370.18224684]\n",
      " [-162.4649258  -506.5401914 ]\n",
      " [  71.85252955  564.58503196]\n",
      " [-534.53393777  109.30604957]\n",
      " [-295.51373645 -246.09389197]\n",
      " [-221.56504544  428.68784299]\n",
      " [-442.95160452  406.55711543]\n",
      " [ 350.90256554  -77.21537223]\n",
      " [ 522.2181331   -36.19785962]\n",
      " [  87.85509913 -428.35305959]\n",
      " [ 330.16375097 -347.06009949]\n",
      " [ -39.95004738 -290.91226999]\n",
      " [-183.56473158 -653.49812312]\n",
      " [ 271.98977914  426.46753723]\n",
      " [ 433.73542965  184.73385437]\n",
      " [ -49.78165268  577.47152156]\n",
      " [-140.98220856  260.64965734]\n",
      " [ 192.72952174  473.52618676]\n",
      " [  83.78844385  -28.55471705]\n",
      " [ 197.43820505  130.35585248]\n",
      " [-146.05267374  560.66561849]\n",
      " [ -10.20948237  423.70484139]\n",
      " [-405.30984089  284.62818648]\n",
      " [ 207.51167147 -591.72463779]\n",
      " [-207.49262613  634.52835356]]\n"
     ]
    }
   ],
   "source": [
    "from sklearn import manifold\n",
    "mds_solution = manifold.MDS(n_components=2,random_state = 9999,dissimilarity = 'precomputed').fit_transform(distance_matrix)\n",
    "print(mds_solution)"
   ]
  },
  {
   "cell_type": "markdown",
   "metadata": {},
   "source": [
    "# 绘制图像"
   ]
  },
  {
   "cell_type": "code",
   "execution_count": 25,
   "metadata": {},
   "outputs": [
    {
     "data": {
      "image/png": "[encoded data removed]",
      "text/plain": [
       "<matplotlib.figure.Figure at 0x22832c8ca20>"
      ]
     },
     "metadata": {},
     "output_type": "display_data"
    }
   ],
   "source": [
    "import matplotlib.pyplot as plt \n",
    "\n",
    "\n",
    "plt.scatter(mds_solution[:,0],mds_solution[:,1],facecolors = 'none', edgecolors = 'none') \n",
    "labels = data.columns[10:]\n",
    "for label, x, y in zip(labels, mds_solution[:,0], mds_solution[:,1]):\n",
    "    plt.annotate(label, (x,y), xycoords = 'data')\n",
    "plt.xlabel('First Dimension')\n",
    "plt.ylabel('Second Dimension')    \n",
    "plt.show()"
   ]
  },
  {
   "cell_type": "markdown",
   "metadata": {},
   "source": [
    "# 欧氏距离"
   ]
  },
  {
   "cell_type": "code",
   "execution_count": 22,
   "metadata": {},
   "outputs": [],
   "source": [
    "mds_solution = manifold.MDS(n_components=2,random_state = 9999).fit_transform(binary_activity_matrix)\n",
    "\n"
   ]
  },
  {
   "cell_type": "code",
   "execution_count": null,
   "metadata": {},
   "outputs": [],
   "source": []
  }
 ],
 "metadata": {
  "kernelspec": {
   "display_name": "Python 3",
   "language": "python",
   "name": "python3"
  },
  "language_info": {
   "codemirror_mode": {
    "name": "ipython",
    "version": 3
   },
   "file_extension": ".py",
   "mimetype": "text/x-python",
   "name": "python",
   "nbconvert_exporter": "python",
   "pygments_lexer": "ipython3",
   "version": "3.6.4"
  }
 },
 "nbformat": 4,
 "nbformat_minor": 2
}
