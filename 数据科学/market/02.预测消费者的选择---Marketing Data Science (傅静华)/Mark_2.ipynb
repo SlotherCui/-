{
 "cells": [
  {
   "cell_type": "code",
   "execution_count": 40,
   "metadata": {},
   "outputs": [],
   "source": [
    "import numpy as np\n",
    "import pandas as pd\n",
    "from sklearn.linear_model import LogisticRegression\n",
    "\n",
    "from sklearn.metrics import confusion_matrix"
   ]
  },
  {
   "cell_type": "markdown",
   "metadata": {},
   "source": [
    "# 加载数据"
   ]
  },
  {
   "cell_type": "code",
   "execution_count": 45,
   "metadata": {},
   "outputs": [],
   "source": [
    "data =  pd.read_csv(\"sydney.csv\")\n",
    "\n",
    "\n",
    "response_to_binary = {'TRAIN':1, 'CAR':0}\n",
    "y = data['choice'].map(response_to_binary)\n",
    "\n",
    "x_cartime = data['cartime']\n",
    "x_carcost = data['carcost']\n",
    "x_traintime = data['traintime']\n",
    "x_traincost = data['traincost']\n",
    "\n",
    "x = np.array([x_cartime,x_carcost,x_traintime,x_traincost]).T"
   ]
  },
  {
   "cell_type": "code",
   "execution_count": 47,
   "metadata": {},
   "outputs": [
    {
     "name": "stdout",
     "output_type": "stream",
     "text": [
      "[[ 0.05492142  0.02910973  0.0124465  -0.11347012]]\n",
      "[-1.06775967]\n",
      "\n",
      "0.8198198198198198\n"
     ]
    },
    {
     "data": {
      "text/plain": [
       "array([[153,  30],\n",
       "       [ 30, 120]], dtype=int64)"
      ]
     },
     "execution_count": 47,
     "metadata": {},
     "output_type": "execute_result"
    }
   ],
   "source": [
    "##通过逻辑回归对数据进行分类\n",
    "lin_reg = LogisticRegression()\n",
    "lin_reg.fit(x , y)\n",
    "\n",
    "##计算参数\n",
    "print(lin_reg.coef_)\n",
    "print(lin_reg.intercept_)\n",
    "print()\n",
    "\n",
    "##计算分数\n",
    "print(lin_reg.score(x, y))\n",
    "\n",
    "\n",
    "\n",
    "##计算混淆矩阵\n",
    "y_predict = lin_reg.predict(x)\n",
    "confusion_matrix(y,y_predict)"
   ]
  },
  {
   "cell_type": "code",
   "execution_count": 17,
   "metadata": {},
   "outputs": [
    {
     "name": "stdout",
     "output_type": "stream",
     "text": [
      "     cartime  carcost  traintime  traincost choice\n",
      "0         70       50         64         39  TRAIN\n",
      "1         50      230         60         32  TRAIN\n",
      "2         50       70         58         40    CAR\n",
      "3         60      108         93         62    CAR\n",
      "4         70       60         68         26  TRAIN\n",
      "5         20       32         72         65    CAR\n",
      "6         40       30         60         37  TRAIN\n",
      "7         15        8         22         20    CAR\n",
      "8         60       60         83         31  TRAIN\n",
      "9         29       20         40         17    CAR\n",
      "10        36       30         65         70    CAR\n",
      "11        50       30        125         60    CAR\n",
      "12        63       35        145         60    CAR\n",
      "13        20       30         48         25    CAR\n",
      "14        60       40         85         45    CAR\n",
      "15        30       20         60         35  TRAIN\n",
      "16        47       60         79         26  TRAIN\n",
      "17        60       72         50         26  TRAIN\n",
      "18        55       40         43         26  TRAIN\n",
      "19        35       80         51         29  TRAIN\n",
      "20        15       30         25         20  TRAIN\n",
      "21        55       50         70         27  TRAIN\n",
      "22        50       50         65         26  TRAIN\n",
      "23        39       25         50         55    CAR\n",
      "24        17       20         78         35    CAR\n",
      "25        35       56         87         40    CAR\n",
      "26        65       55         90         26  TRAIN\n",
      "27        38       40         74         23  TRAIN\n",
      "28        15       15         40         34    CAR\n",
      "29        65      130         74         30  TRAIN\n",
      "..       ...      ...        ...        ...    ...\n",
      "303       65       60         65         31  TRAIN\n",
      "304       40       50         91         71    CAR\n",
      "305       50       64         70         53    CAR\n",
      "306       75      154         60         34  TRAIN\n",
      "307       30       48         60         47    CAR\n",
      "308       60      180         64         33  TRAIN\n",
      "309       60       80         75         36  TRAIN\n",
      "310       68       30         65         26  TRAIN\n",
      "311       65       88         76         41  TRAIN\n",
      "312       65       60         73         26  TRAIN\n",
      "313       37       40         57         26  TRAIN\n",
      "314       45       35         65         35  TRAIN\n",
      "315       65      137         73         33  TRAIN\n",
      "316       60      145         54         36  TRAIN\n",
      "317       55      140         74         36  TRAIN\n",
      "318       60      100         50         36  TRAIN\n",
      "319       65       50        100         50    CAR\n",
      "320       50      140         85         63    CAR\n",
      "321       75       72         63         30  TRAIN\n",
      "322       35       30         48         29  TRAIN\n",
      "323       15       24         28         25    CAR\n",
      "324       53       56         42         26  TRAIN\n",
      "325       25       60         65         31    CAR\n",
      "326       45       54         67         33    CAR\n",
      "327       25       28         48         39    CAR\n",
      "328       27       50         52         40    CAR\n",
      "329       25       25         63         80    CAR\n",
      "330       50       50         80         50    CAR\n",
      "331       25       25         39         20    CAR\n",
      "332       35       64         95         40    CAR\n",
      "\n",
      "[333 rows x 5 columns]\n",
      "here\n",
      "                 Generalized Linear Model Regression Results                  \n",
      "==============================================================================\n",
      "Dep. Variable:                 choice   No. Observations:                  333\n",
      "Model:                            GLM   Df Residuals:                      328\n",
      "Model Family:                Binomial   Df Model:                            4\n",
      "Link Function:                  logit   Scale:                             1.0\n",
      "Method:                          IRLS   Log-Likelihood:                -136.32\n",
      "Date:                Mon, 12 Nov 2018   Deviance:                       272.63\n",
      "Time:                        21:33:53   Pearson chi2:                     326.\n",
      "No. Iterations:                     6                                         \n",
      "==============================================================================\n",
      "                 coef    std err          z      P>|z|      [0.025      0.975]\n",
      "------------------------------------------------------------------------------\n",
      "const         -1.4440      0.585     -2.468      0.014      -2.591      -0.297\n",
      "x1             0.0565      0.011      5.179      0.000       0.035       0.078\n",
      "x2             0.0298      0.007      4.283      0.000       0.016       0.043\n",
      "x3             0.0149      0.009      1.573      0.116      -0.004       0.034\n",
      "x4            -0.1113      0.017     -6.736      0.000      -0.144      -0.079\n",
      "==============================================================================\n",
      "choice       CAR  TRAIN\n",
      "choice_pred            \n",
      "CAR          155     30\n",
      "TRAIN         28    120\n",
      "\n",
      " Percentage Correctly Predicted 0.826 \n",
      "\n"
     ]
    },
    {
     "name": "stderr",
     "output_type": "stream",
     "text": [
      "D:\\ANACONDA\\lib\\site-packages\\ipykernel_launcher.py:45: DeprecationWarning: \n",
      ".ix is deprecated. Please use\n",
      ".loc for label based indexing or\n",
      ".iloc for positional indexing\n",
      "\n",
      "See the documentation here:\n",
      "http://pandas.pydata.org/pandas-docs/stable/indexing.html#ix-indexer-is-deprecated\n"
     ]
    }
   ],
   "source": []
  },
  {
   "cell_type": "code",
   "execution_count": null,
   "metadata": {},
   "outputs": [],
   "source": [
    "|"
   ]
  }
 ],
 "metadata": {
  "kernelspec": {
   "display_name": "Python 3",
   "language": "python",
   "name": "python3"
  },
  "language_info": {
   "codemirror_mode": {
    "name": "ipython",
    "version": 3
   },
   "file_extension": ".py",
   "mimetype": "text/x-python",
   "name": "python",
   "nbconvert_exporter": "python",
   "pygments_lexer": "ipython3",
   "version": "3.6.4"
  }
 },
 "nbformat": 4,
 "nbformat_minor": 2
}
