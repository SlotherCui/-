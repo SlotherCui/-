{
 "cells": [
  {
   "cell_type": "code",
   "execution_count": 1,
   "metadata": {},
   "outputs": [],
   "source": [
    "import numpy as np\n",
    "import pandas as pd\n",
    "from sklearn.linear_model import LogisticRegression\n",
    "\n",
    "from sklearn.metrics import confusion_matrix"
   ]
  },
  {
   "cell_type": "markdown",
   "metadata": {},
   "source": [
    "# 加载数据"
   ]
  },
  {
   "cell_type": "code",
   "execution_count": 2,
   "metadata": {},
   "outputs": [],
   "source": [
    "data =  pd.read_csv(\"sydney.csv\")\n",
    "\n",
    "\n",
    "response_to_binary = {'TRAIN':1, 'CAR':0}\n",
    "y = data['choice'].map(response_to_binary)\n",
    "\n",
    "x_cartime = data['cartime']\n",
    "x_carcost = data['carcost']\n",
    "x_traintime = data['traintime']\n",
    "x_traincost = data['traincost']\n",
    "\n",
    "x = np.array([x_cartime,x_carcost,x_traintime,x_traincost]).T"
   ]
  },
  {
   "cell_type": "code",
   "execution_count": 3,
   "metadata": {},
   "outputs": [
    {
     "name": "stdout",
     "output_type": "stream",
     "text": [
      "[[ 0.05492142  0.02910973  0.0124465  -0.11347012]]\n",
      "[-1.06775967]\n",
      "\n",
      "0.8198198198198198\n"
     ]
    },
    {
     "data": {
      "text/plain": [
       "array([[153,  30],\n",
       "       [ 30, 120]], dtype=int64)"
      ]
     },
     "execution_count": 3,
     "metadata": {},
     "output_type": "execute_result"
    }
   ],
   "source": [
    "##通过逻辑回归对数据进行分类\n",
    "lin_reg = LogisticRegression()\n",
    "lin_reg.fit(x , y)\n",
    "\n",
    "##计算参数\n",
    "print(lin_reg.coef_)\n",
    "print(lin_reg.intercept_)\n",
    "print()\n",
    "\n",
    "##计算分数\n",
    "print(lin_reg.score(x, y))\n",
    "\n",
    "\n",
    "\n",
    "##计算混淆矩阵\n",
    "y_predict = lin_reg.predict(x)\n",
    "confusion_matrix(y,y_predict)"
   ]
  },
  {
   "cell_type": "code",
   "execution_count": null,
   "metadata": {},
   "outputs": [],
   "source": []
  },
  {
   "cell_type": "code",
   "execution_count": 4,
   "metadata": {},
   "outputs": [
    {
     "ename": "SyntaxError",
     "evalue": "invalid syntax (<ipython-input-4-4b37ef281455>, line 1)",
     "output_type": "error",
     "traceback": [
      "\u001b[1;36m  File \u001b[1;32m\"<ipython-input-4-4b37ef281455>\"\u001b[1;36m, line \u001b[1;32m1\u001b[0m\n\u001b[1;33m    |\u001b[0m\n\u001b[1;37m    ^\u001b[0m\n\u001b[1;31mSyntaxError\u001b[0m\u001b[1;31m:\u001b[0m invalid syntax\n"
     ]
    }
   ],
   "source": [
    "|"
   ]
  },
  {
   "cell_type": "code",
   "execution_count": null,
   "metadata": {},
   "outputs": [],
   "source": []
  }
 ],
 "metadata": {
  "kernelspec": {
   "display_name": "Python 3",
   "language": "python",
   "name": "python3"
  },
  "language_info": {
   "codemirror_mode": {
    "name": "ipython",
    "version": 3
   },
   "file_extension": ".py",
   "mimetype": "text/x-python",
   "name": "python",
   "nbconvert_exporter": "python",
   "pygments_lexer": "ipython3",
   "version": "3.6.4"
  }
 },
 "nbformat": 4,
 "nbformat_minor": 2
}
