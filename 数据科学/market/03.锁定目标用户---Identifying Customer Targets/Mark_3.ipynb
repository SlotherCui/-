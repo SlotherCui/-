{
 "cells": [
  {
   "cell_type": "code",
   "execution_count": 26,
   "metadata": {},
   "outputs": [],
   "source": [
    "import pandas as pd  \n",
    "import numpy as np \n",
    "from collections import Counter\n",
    "import patsy \n",
    "from sklearn.linear_model import LogisticRegression\n",
    "from sklearn.metrics import confusion_matrix"
   ]
  },
  {
   "cell_type": "markdown",
   "metadata": {},
   "source": [
    "# 加载数据"
   ]
  },
  {
   "cell_type": "code",
   "execution_count": 27,
   "metadata": {},
   "outputs": [
    {
     "name": "stdout",
     "output_type": "stream",
     "text": [
      "Counter({'management': 969, 'blue-collar': 946, 'technician': 768, 'admin.': 478, 'services': 417, 'retired': 230, 'self-employed': 183, 'entrepreneur': 168, 'unemployed': 128, 'housemaid': 112, 'student': 84, 'unknown': 38})\n",
      "Counter({'married': 2797, 'single': 1196, 'divorced': 528})\n",
      "Counter({'secondary': 2306, 'tertiary': 1350, 'primary': 678, 'unknown': 187})\n",
      "Counter({'no': 4445, 'yes': 76})\n",
      "Counter({'yes': 2559, 'no': 1962})\n",
      "Counter({'no': 3830, 'yes': 691})\n",
      "Counter({'cellular': 2896, 'unknown': 1324, 'telephone': 301})\n",
      "Counter({'unknown': 3705, 'failure': 490, 'other': 197, 'success': 129})\n",
      "Counter({'no': 4000, 'yes': 521})\n"
     ]
    }
   ],
   "source": [
    "data = pd.read_csv('bank.csv', sep = ';')\n",
    "columns = ['job', 'marital','education', 'default', 'housing', 'loan','contact','poutcome','response']\n",
    "\n",
    "for column in columns:\n",
    "    counter = Counter(data[column])\n",
    "    print(counter)\n",
    "    \n"
   ]
  },
  {
   "cell_type": "markdown",
   "metadata": {},
   "source": [
    "# 数据处理"
   ]
  },
  {
   "cell_type": "code",
   "execution_count": 28,
   "metadata": {},
   "outputs": [],
   "source": [
    "\n",
    "##job设置虚拟变量\n",
    "job_to_jobtype = {'admin.':'White Collar',\\\n",
    "    'entrepreneur':'White Collar',\\\n",
    "    'management':'White Collar',\\\n",
    "    'self-employed':'White Collar',\\\n",
    "    'blue-collar':'Blue Collar',\\\n",
    "    'services':'Blue Collar',\\\n",
    "    'technician':'Blue Collar'}\n",
    "data['jobtype'] = data['job'].map(job_to_jobtype)\n",
    "data['jobtype'] = data['jobtype'].fillna('Other/Unknown')\n",
    "\n",
    "\n",
    "\n",
    "##response\n",
    "noyes_to_binary = {'no':0, 'yes':1}\n",
    "data['response'] = data['response'].map(noyes_to_binary)\n",
    "data['response'] = data['response'].fillna('No')\n",
    "\n",
    "\n",
    "\n"
   ]
  },
  {
   "cell_type": "markdown",
   "metadata": {},
   "source": [
    "### 生成模型训练数据"
   ]
  },
  {
   "cell_type": "code",
   "execution_count": 29,
   "metadata": {},
   "outputs": [
    {
     "data": {
      "text/plain": [
       "Index(['Intercept', 'jobtype[T.Other/Unknown]', 'jobtype[T.White Collar]',\n",
       "       'education[T.secondary]', 'education[T.tertiary]',\n",
       "       'education[T.unknown]', 'marital[T.married]', 'marital[T.single]',\n",
       "       'default[T.yes]', 'housing[T.yes]', 'loan[T.yes]', 'age', 'balance'],\n",
       "      dtype='object')"
      ]
     },
     "execution_count": 29,
     "metadata": {},
     "output_type": "execute_result"
    }
   ],
   "source": [
    "\n",
    "bank_spec = 'response ~ age + jobtype + education + marital + default + balance + housing + loan'\n",
    "filter = data['pdays'].map(lambda d: d == -1)\n",
    "\n",
    "bankwork = pd.DataFrame(data[filter], columns = ['response','age','jobtype',\\\n",
    "    'education',  'marital', 'default', 'balance', 'housing', 'loan'])\n",
    "\n",
    "\n",
    "y_train,x_train = patsy.dmatrices(bank_spec, bankwork,return_type = 'dataframe')\n",
    "\n",
    "x_train.columns"
   ]
  },
  {
   "cell_type": "markdown",
   "metadata": {},
   "source": [
    "# 逻辑回归模型进行训练"
   ]
  },
  {
   "cell_type": "code",
   "execution_count": 30,
   "metadata": {},
   "outputs": [
    {
     "name": "stderr",
     "output_type": "stream",
     "text": [
      "D:\\ANACONDA\\lib\\site-packages\\sklearn\\utils\\validation.py:578: DataConversionWarning: A column-vector y was passed when a 1d array was expected. Please change the shape of y to (n_samples, ), for example using ravel().\n",
      "  y = column_or_1d(y, warn=True)\n"
     ]
    },
    {
     "data": {
      "text/plain": [
       "LogisticRegression(C=1.0, class_weight=None, dual=False, fit_intercept=True,\n",
       "          intercept_scaling=1, max_iter=100, multi_class='ovr', n_jobs=1,\n",
       "          penalty='l2', random_state=None, solver='liblinear', tol=0.0001,\n",
       "          verbose=0, warm_start=False)"
      ]
     },
     "execution_count": 30,
     "metadata": {},
     "output_type": "execute_result"
    }
   ],
   "source": [
    "log_reg = LogisticRegression()\n",
    "log_reg.fit(x_train,y_train)\n"
   ]
  },
  {
   "cell_type": "markdown",
   "metadata": {},
   "source": [
    "### 逻辑回归结果"
   ]
  },
  {
   "cell_type": "code",
   "execution_count": 31,
   "metadata": {},
   "outputs": [
    {
     "name": "stdout",
     "output_type": "stream",
     "text": [
      "[[-1.04636425e+00  5.58031699e-01  1.39057349e-01  2.89881285e-02\n",
      "   2.25533953e-01 -3.56268264e-01 -5.89451153e-01 -1.15366260e-01\n",
      "   1.94892399e-01 -4.09685577e-01 -6.41175431e-01  5.40429206e-03\n",
      "   4.86112800e-06]]\n",
      "0.9090418353576248\n"
     ]
    }
   ],
   "source": [
    "print(log_reg.coef_)\n",
    "print(log_reg.score(x_train,y_train))"
   ]
  },
  {
   "cell_type": "code",
   "execution_count": 32,
   "metadata": {},
   "outputs": [
    {
     "data": {
      "text/plain": [
       "array([[3368,    0],\n",
       "       [ 337,    0]], dtype=int64)"
      ]
     },
     "execution_count": 32,
     "metadata": {},
     "output_type": "execute_result"
    }
   ],
   "source": [
    "##混淆矩阵\n",
    "y_predict = log_reg.predict(x_train)\n",
    "confusion_matrix(y_train,y_predict)"
   ]
  },
  {
   "cell_type": "code",
   "execution_count": null,
   "metadata": {},
   "outputs": [],
   "source": []
  }
 ],
 "metadata": {
  "kernelspec": {
   "display_name": "Python 3",
   "language": "python",
   "name": "python3"
  },
  "language_info": {
   "codemirror_mode": {
    "name": "ipython",
    "version": 3
   },
   "file_extension": ".py",
   "mimetype": "text/x-python",
   "name": "python",
   "nbconvert_exporter": "python",
   "pygments_lexer": "ipython3",
   "version": "3.6.4"
  }
 },
 "nbformat": 4,
 "nbformat_minor": 2
}
