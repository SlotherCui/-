{
 "cells": [
  {
   "cell_type": "code",
   "execution_count": 24,
   "metadata": {},
   "outputs": [],
   "source": [
    "import pandas as pd  \n",
    "import numpy as np \n",
    "from collections import Counter"
   ]
  },
  {
   "cell_type": "markdown",
   "metadata": {},
   "source": [
    "# 加载数据"
   ]
  },
  {
   "cell_type": "code",
   "execution_count": 25,
   "metadata": {},
   "outputs": [],
   "source": [
    "data = pd.read_csv('bank.csv', sep = ';')\n"
   ]
  },
  {
   "cell_type": "markdown",
   "metadata": {},
   "source": [
    "# 统计job marital education变量"
   ]
  },
  {
   "cell_type": "code",
   "execution_count": 26,
   "metadata": {
    "scrolled": false
   },
   "outputs": [],
   "source": [
    "##job\n",
    "job_indicators=pd.get_dummies(data['job'],prefix='job')\n",
    "data=data.join(job_indicators)\n",
    "data['whitecollar']=data['job_management']+data['job_entrepreneur']+data['job_self-employed']\n",
    "data['bluecollar']=data['job_blue-collar']+data['job_services']+data['job_technician']+data['job_housemaid']\n",
    "\n",
    "##marital\n",
    "marital_indicators=pd.get_dummies(data['marital'])\n",
    "data=data.join(marital_indicators)\n",
    "##education\n",
    "education_indicators=pd.get_dummies(data['education'])\n",
    "data=data.join(education_indicators)\n"
   ]
  },
  {
   "cell_type": "markdown",
   "metadata": {},
   "source": [
    "# 选择用于聚类分析的数据"
   ]
  },
  {
   "cell_type": "code",
   "execution_count": 58,
   "metadata": {},
   "outputs": [
    {
     "data": {
      "text/plain": [
       "array([[30,  0,  0, ...,  1,  0,  0],\n",
       "       [30,  1,  0, ...,  0,  0,  1],\n",
       "       [59,  0,  1, ...,  0,  1,  0],\n",
       "       ...,\n",
       "       [33,  0,  1, ...,  0,  1,  0],\n",
       "       [57,  1,  0, ...,  0,  0,  1],\n",
       "       [57,  0,  1, ...,  0,  1,  0]], dtype=int64)"
      ]
     },
     "execution_count": 58,
     "metadata": {},
     "output_type": "execute_result"
    }
   ],
   "source": [
    "bank_selected=data[data['previous']==0]\n",
    "data_for_clustering=pd.DataFrame(bank_selected,columns=['age','whitecollar','bluecollar','divorced','married','primary',\n",
    "                                                        'secondary','tertiary'])          \n",
    "data_for_clustering_matrix=data_for_clustering.as_matrix()\n",
    "data_for_clustering_matrix\n"
   ]
  },
  {
   "cell_type": "code",
   "execution_count": 59,
   "metadata": {},
   "outputs": [],
   "source": [
    "bankfull=pd.DataFrame(bank_selected,columns=['response','age',\n",
    "                    'whitecollar','bluecollar','divorced','married','primary',\n",
    "                    'secondary','tertiary'])    "
   ]
  },
  {
   "cell_type": "markdown",
   "metadata": {},
   "source": [
    "# K-Means算法聚类"
   ]
  },
  {
   "cell_type": "code",
   "execution_count": 60,
   "metadata": {},
   "outputs": [],
   "source": [
    "from sklearn.cluster import KMeans\n",
    "from sklearn.metrics import silhouette_score"
   ]
  },
  {
   "cell_type": "markdown",
   "metadata": {},
   "source": [
    "### 选取不同的K值进行聚类查看效果"
   ]
  },
  {
   "cell_type": "code",
   "execution_count": 61,
   "metadata": {},
   "outputs": [
    {
     "name": "stdout",
     "output_type": "stream",
     "text": [
      "k: 2\n",
      "0.601534349147598\n",
      "k: 3\n",
      "0.5299715327937059\n",
      "k: 4\n",
      "0.4713176700211876\n",
      "k: 5\n",
      "0.47726254626141335\n",
      "k: 6\n",
      "0.4664339177454313\n",
      "k: 7\n",
      "0.44494542752512234\n",
      "k: 8\n",
      "0.42324257583348124\n",
      "k: 9\n",
      "0.40344867023527364\n",
      "k: 10\n",
      "0.37844375945020015\n",
      "k: 11\n",
      "0.3789253996697508\n",
      "k: 12\n",
      "0.35099118238440274\n",
      "k: 13\n",
      "0.34618101513667154\n",
      "k: 14\n",
      "0.31782823152947676\n",
      "k: 15\n",
      "0.30344649329597756\n",
      "k: 16\n",
      "0.30838392737406234\n",
      "k: 17\n",
      "0.29564932476744477\n",
      "k: 18\n",
      "0.2829007728090323\n",
      "k: 19\n",
      "0.2731624736581588\n",
      "k: 20\n",
      "0.2843265661311533\n"
     ]
    }
   ],
   "source": [
    "##选取2到20不同的K值\n",
    "for k in range(2,21):\n",
    "    print(\"k: \"+str(k))\n",
    "    y_pred = KMeans(n_clusters=k, random_state=9999).fit_predict(data_for_clustering_matrix)\n",
    "    \n",
    "    ##轮廓系数\n",
    "    silhouette_avg = silhouette_score(data_for_clustering_matrix, y_pred)\n",
    "    print(silhouette_avg)"
   ]
  },
  {
   "cell_type": "markdown",
   "metadata": {},
   "source": [
    "### 选取k=2进行聚类"
   ]
  },
  {
   "cell_type": "code",
   "execution_count": 32,
   "metadata": {},
   "outputs": [
    {
     "data": {
      "text/html": [
       "<div>\n",
       "<style scoped>\n",
       "    .dataframe tbody tr th:only-of-type {\n",
       "        vertical-align: middle;\n",
       "    }\n",
       "\n",
       "    .dataframe tbody tr th {\n",
       "        vertical-align: top;\n",
       "    }\n",
       "\n",
       "    .dataframe thead th {\n",
       "        text-align: right;\n",
       "    }\n",
       "</style>\n",
       "<table border=\"1\" class=\"dataframe\">\n",
       "  <thead>\n",
       "    <tr style=\"text-align: right;\">\n",
       "      <th></th>\n",
       "      <th>response</th>\n",
       "      <th>age</th>\n",
       "      <th>whitecollar</th>\n",
       "      <th>bluecollar</th>\n",
       "      <th>divorced</th>\n",
       "      <th>married</th>\n",
       "      <th>primary</th>\n",
       "      <th>secondary</th>\n",
       "      <th>tertiary</th>\n",
       "      <th>cluster</th>\n",
       "    </tr>\n",
       "  </thead>\n",
       "  <tbody>\n",
       "    <tr>\n",
       "      <th>0</th>\n",
       "      <td>no</td>\n",
       "      <td>30</td>\n",
       "      <td>0</td>\n",
       "      <td>0</td>\n",
       "      <td>0</td>\n",
       "      <td>1</td>\n",
       "      <td>1</td>\n",
       "      <td>0</td>\n",
       "      <td>0</td>\n",
       "      <td>0</td>\n",
       "    </tr>\n",
       "    <tr>\n",
       "      <th>3</th>\n",
       "      <td>no</td>\n",
       "      <td>30</td>\n",
       "      <td>1</td>\n",
       "      <td>0</td>\n",
       "      <td>0</td>\n",
       "      <td>1</td>\n",
       "      <td>0</td>\n",
       "      <td>0</td>\n",
       "      <td>1</td>\n",
       "      <td>0</td>\n",
       "    </tr>\n",
       "    <tr>\n",
       "      <th>4</th>\n",
       "      <td>no</td>\n",
       "      <td>59</td>\n",
       "      <td>0</td>\n",
       "      <td>1</td>\n",
       "      <td>0</td>\n",
       "      <td>1</td>\n",
       "      <td>0</td>\n",
       "      <td>1</td>\n",
       "      <td>0</td>\n",
       "      <td>1</td>\n",
       "    </tr>\n",
       "    <tr>\n",
       "      <th>7</th>\n",
       "      <td>no</td>\n",
       "      <td>39</td>\n",
       "      <td>0</td>\n",
       "      <td>1</td>\n",
       "      <td>0</td>\n",
       "      <td>1</td>\n",
       "      <td>0</td>\n",
       "      <td>1</td>\n",
       "      <td>0</td>\n",
       "      <td>0</td>\n",
       "    </tr>\n",
       "    <tr>\n",
       "      <th>8</th>\n",
       "      <td>no</td>\n",
       "      <td>41</td>\n",
       "      <td>1</td>\n",
       "      <td>0</td>\n",
       "      <td>0</td>\n",
       "      <td>1</td>\n",
       "      <td>0</td>\n",
       "      <td>0</td>\n",
       "      <td>1</td>\n",
       "      <td>0</td>\n",
       "    </tr>\n",
       "  </tbody>\n",
       "</table>\n",
       "</div>"
      ],
      "text/plain": [
       "  response  age  whitecollar  bluecollar  divorced  married  primary  \\\n",
       "0       no   30            0           0         0        1        1   \n",
       "3       no   30            1           0         0        1        0   \n",
       "4       no   59            0           1         0        1        0   \n",
       "7       no   39            0           1         0        1        0   \n",
       "8       no   41            1           0         0        1        0   \n",
       "\n",
       "   secondary  tertiary  cluster  \n",
       "0          0         0        0  \n",
       "3          0         1        0  \n",
       "4          1         0        1  \n",
       "7          1         0        0  \n",
       "8          0         1        0  "
      ]
     },
     "execution_count": 32,
     "metadata": {},
     "output_type": "execute_result"
    }
   ],
   "source": [
    "y_predict = KMeans(n_clusters=2, random_state=9999).fit_predict(data_for_clustering_matrix)\n",
    "bankfull['cluster']=y_predict\n",
    "bankfull.head()"
   ]
  },
  {
   "cell_type": "code",
   "execution_count": 53,
   "metadata": {},
   "outputs": [
    {
     "name": "stdout",
     "output_type": "stream",
     "text": [
      "age\n",
      "          count       mean       std   min   25%   50%   75%   max\n",
      "cluster                                                           \n",
      "0        2303.0  34.293964  5.064226  19.0  31.0  34.0  38.0  43.0\n",
      "1        1402.0  52.236805  6.489732  44.0  47.0  51.0  56.0  87.0\n",
      "\n",
      "whitecollar\n",
      "          count      mean       std  min  25%  50%  75%  max\n",
      "cluster                                                     \n",
      "0        2303.0  0.298741  0.457805  0.0  0.0  0.0  1.0  1.0\n",
      "1        1402.0  0.281740  0.450008  0.0  0.0  0.0  1.0  1.0\n",
      "\n",
      "bluecollar\n",
      "          count      mean       std  min  25%  50%  75%  max\n",
      "cluster                                                     \n",
      "0        2303.0  0.531481  0.499116  0.0  0.0  1.0  1.0  1.0\n",
      "1        1402.0  0.460770  0.498637  0.0  0.0  0.0  1.0  1.0\n",
      "\n",
      "divorced\n",
      "          count      mean       std  min  25%  50%  75%  max\n",
      "cluster                                                     \n",
      "0        2303.0  0.087277  0.282303  0.0  0.0  0.0  0.0  1.0\n",
      "1        1402.0  0.172611  0.378045  0.0  0.0  0.0  0.0  1.0\n",
      "\n",
      "married\n",
      "          count      mean       std  min   25%  50%  75%  max\n",
      "cluster                                                      \n",
      "0        2303.0  0.544507  0.498123  0.0  0.00  1.0  1.0  1.0\n",
      "1        1402.0  0.749643  0.433373  0.0  0.25  1.0  1.0  1.0\n",
      "\n",
      "primary\n",
      "          count      mean       std  min  25%  50%  75%  max\n",
      "cluster                                                     \n",
      "0        2303.0  0.102909  0.303906  0.0  0.0  0.0  0.0  1.0\n",
      "1        1402.0  0.244650  0.430033  0.0  0.0  0.0  0.0  1.0\n",
      "\n",
      "secondary\n",
      "          count      mean       std  min  25%  50%  75%  max\n",
      "cluster                                                     \n",
      "0        2303.0  0.541033  0.498422  0.0  0.0  1.0  1.0  1.0\n",
      "1        1402.0  0.460057  0.498580  0.0  0.0  0.0  1.0  1.0\n",
      "\n",
      "tertiary\n",
      "          count      mean       std  min  25%  50%  75%  max\n",
      "cluster                                                     \n",
      "0        2303.0  0.327833  0.469526  0.0  0.0  0.0  1.0  1.0\n",
      "1        1402.0  0.234665  0.423940  0.0  0.0  0.0  0.0  1.0\n",
      "\n"
     ]
    }
   ],
   "source": [
    "segments=bankfull.groupby('cluster')\n",
    "describe = segments.describe()\n",
    "columns = ['age','whitecollar','bluecollar','divorced','married','primary','secondary','tertiary']\n",
    "for i in columns:\n",
    "    print(i)\n",
    "    print(describe[i])\n",
    "    print()"
   ]
  },
  {
   "cell_type": "code",
   "execution_count": null,
   "metadata": {},
   "outputs": [],
   "source": []
  }
 ],
 "metadata": {
  "kernelspec": {
   "display_name": "Python 3",
   "language": "python",
   "name": "python3"
  },
  "language_info": {
   "codemirror_mode": {
    "name": "ipython",
    "version": 3
   },
   "file_extension": ".py",
   "mimetype": "text/x-python",
   "name": "python",
   "nbconvert_exporter": "python",
   "pygments_lexer": "ipython3",
   "version": "3.6.4"
  }
 },
 "nbformat": 4,
 "nbformat_minor": 2
}
