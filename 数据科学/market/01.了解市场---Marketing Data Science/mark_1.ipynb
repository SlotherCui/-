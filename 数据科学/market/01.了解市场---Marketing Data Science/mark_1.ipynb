{
 "cells": [
  {
   "cell_type": "code",
   "execution_count": 2,
   "metadata": {},
   "outputs": [],
   "source": [
    "import csv\n",
    "import numpy as np\n",
    "import pandas\n",
    "from collections import Counter"
   ]
  },
  {
   "cell_type": "markdown",
   "metadata": {},
   "source": [
    "# 加载数据"
   ]
  },
  {
   "cell_type": "code",
   "execution_count": 17,
   "metadata": {},
   "outputs": [
    {
     "data": {
      "text/plain": [
       "0     11\n",
       "1     12\n",
       "2      9\n",
       "3      2\n",
       "4      8\n",
       "5     13\n",
       "6      7\n",
       "7      4\n",
       "8      5\n",
       "9     16\n",
       "10     3\n",
       "11     6\n",
       "12    10\n",
       "13    15\n",
       "14     1\n",
       "15    14\n",
       "Name: ranking, dtype: int64"
      ]
     },
     "execution_count": 17,
     "metadata": {},
     "output_type": "execute_result"
    }
   ],
   "source": [
    "attributes = ['brand', 'startup', 'monthly', 'service', 'retail', 'apple', 'samsung', 'google']\n",
    "data = pandas.read_csv('mobile_services_ranking.csv')\n",
    "data['ranking']"
   ]
  },
  {
   "cell_type": "markdown",
   "metadata": {},
   "source": [
    "# 平均秩 效用值 分值距离计算"
   ]
  },
  {
   "cell_type": "code",
   "execution_count": 34,
   "metadata": {},
   "outputs": [
    {
     "name": "stdout",
     "output_type": "stream",
     "text": [
      "{'level': '\"AT&T\"', 'avg': 8.5, 'part_worth': 0.0}\n",
      "{'level': '\"Verizon\"', 'avg': 8.75, 'part_worth': -0.25}\n",
      "{'level': '\"US Cellular\"', 'avg': 8.5, 'part_worth': 0.0}\n",
      "{'level': '\"T-Mobile\"', 'avg': 8.25, 'part_worth': 0.25}\n",
      "brand   part_worth_range: 0.25\n",
      "{'level': '\"$100\"', 'avg': 9.25, 'part_worth': -0.75}\n",
      "{'level': '\"$300\"', 'avg': 8.5, 'part_worth': 0.0}\n",
      "{'level': '\"$400\"', 'avg': 7.75, 'part_worth': 0.75}\n",
      "{'level': '\"$200\"', 'avg': 8.5, 'part_worth': 0.0}\n",
      "startup   part_worth_range: 0.75\n",
      "{'level': '\"$100\"', 'avg': 13.5, 'part_worth': -5.0}\n",
      "{'level': '\"$200\"', 'avg': 10.5, 'part_worth': -2.0}\n",
      "{'level': '\"$400\"', 'avg': 2.75, 'part_worth': 5.75}\n",
      "{'level': '\"$300\"', 'avg': 7.25, 'part_worth': 1.25}\n",
      "monthly   part_worth_range: 5.375\n",
      "{'level': '\"4G NO\"', 'avg': 6.75, 'part_worth': 1.75}\n",
      "{'level': '\"4G YES\"', 'avg': 10.25, 'part_worth': -1.75}\n",
      "service   part_worth_range: 3.5\n",
      "{'level': '\"Retail NO\"', 'avg': 8.75, 'part_worth': -0.25}\n",
      "{'level': '\"Retail YES\"', 'avg': 8.25, 'part_worth': 0.25}\n",
      "retail   part_worth_range: 0.5\n",
      "{'level': '\"Apple NO\"', 'avg': 8.75, 'part_worth': -0.25}\n",
      "{'level': '\"Apple YES\"', 'avg': 8.25, 'part_worth': 0.25}\n",
      "apple   part_worth_range: 0.5\n",
      "{'level': '\"Samsung NO\"', 'avg': 7.375, 'part_worth': 1.125}\n",
      "{'level': '\"Samsung YES\"', 'avg': 9.625, 'part_worth': -1.125}\n",
      "samsung   part_worth_range: 2.25\n",
      "{'level': '\"Nexus NO\"', 'avg': 7.75, 'part_worth': 0.75}\n",
      "{'level': '\"Nexus YES\"', 'avg': 9.25, 'part_worth': -0.75}\n",
      "google   part_worth_range: 1.5\n"
     ]
    }
   ],
   "source": [
    "part_worth_range = []\n",
    "part_worth_range_attr = []\n",
    "for item in attributes:\n",
    "    counter = Counter(data[item])\n",
    "\n",
    "    levels = counter.keys()\n",
    "    part_worth = []\n",
    "    for level in levels:\n",
    "        count=0;\n",
    "        m=0;\n",
    "        d = {}\n",
    "        ##水平\n",
    "        d['level'] = level\n",
    "        \n",
    "        ##平均秩  \n",
    "        for row in range(16):\n",
    "            if data[item][row]==level:\n",
    "                count=count+data['ranking'][row]\n",
    "                m=m+1\n",
    "        d['avg'] = count/m\n",
    "        \n",
    "        \n",
    "        ##产品轮廓个数\n",
    "        n = 16.\n",
    "        \n",
    "        \n",
    "        ##效用值\n",
    "        d['part_worth'] = (n+1)/2 - d['avg']\n",
    "        part_worth.append((n+1)/2 - count/8)\n",
    "        \n",
    "        \n",
    "        print(d)\n",
    "        \n",
    "    ##分值距离\n",
    "    part_worth_range.append( max(part_worth)-min(part_worth))\n",
    "    print(item+'   part_worth_range: '+str(max(part_worth)-min(part_worth)))\n",
    "    "
   ]
  },
  {
   "cell_type": "markdown",
   "metadata": {},
   "source": [
    "# 相对重要性"
   ]
  },
  {
   "cell_type": "code",
   "execution_count": 35,
   "metadata": {},
   "outputs": [
    {
     "name": "stdout",
     "output_type": "stream",
     "text": [
      "相对重要性\n",
      "brand: 0.017094017094017096\n",
      "startup: 0.05128205128205128\n",
      "monthly: 0.36752136752136755\n",
      "service: 0.23931623931623933\n",
      "retail: 0.03418803418803419\n",
      "apple: 0.03418803418803419\n",
      "samsung: 0.15384615384615385\n",
      "google: 0.10256410256410256\n"
     ]
    }
   ],
   "source": [
    "print('相对重要性')\n",
    "\n",
    "##相对重要性\n",
    "attribute_importance = part_worth_range/sum(part_worth_range)\n",
    "\n",
    "\n",
    "\n",
    "for i in range(len(attributes)):\n",
    "    print(attributes[i]+\": \"+str(attribute_importance[i]))\n",
    "    attribute_importance_dict[attributes[i]] = attribute_importance[i]"
   ]
  },
  {
   "cell_type": "code",
   "execution_count": null,
   "metadata": {},
   "outputs": [],
   "source": [
    "\n"
   ]
  },
  {
   "cell_type": "code",
   "execution_count": null,
   "metadata": {},
   "outputs": [],
   "source": []
  }
 ],
 "metadata": {
  "kernelspec": {
   "display_name": "Python 3",
   "language": "python",
   "name": "python3"
  },
  "language_info": {
   "codemirror_mode": {
    "name": "ipython",
    "version": 3
   },
   "file_extension": ".py",
   "mimetype": "text/x-python",
   "name": "python",
   "nbconvert_exporter": "python",
   "pygments_lexer": "ipython3",
   "version": "3.6.4"
  }
 },
 "nbformat": 4,
 "nbformat_minor": 2
}
