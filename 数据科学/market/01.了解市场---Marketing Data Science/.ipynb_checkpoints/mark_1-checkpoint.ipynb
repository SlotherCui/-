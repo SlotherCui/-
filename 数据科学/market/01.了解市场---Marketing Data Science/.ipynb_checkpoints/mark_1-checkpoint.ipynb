{
 "cells": [
  {
   "cell_type": "code",
   "execution_count": 4,
   "metadata": {},
   "outputs": [],
   "source": [
    "import csv\n",
    "import numpy as np\n",
    "import pandas\n",
    "from collections import Counter"
   ]
  },
  {
   "cell_type": "markdown",
   "metadata": {},
   "source": [
    "# 加载数据"
   ]
  },
  {
   "cell_type": "code",
   "execution_count": 5,
   "metadata": {},
   "outputs": [
    {
     "data": {
      "text/plain": [
       "0     11\n",
       "1     12\n",
       "2      9\n",
       "3      2\n",
       "4      8\n",
       "5     13\n",
       "6      7\n",
       "7      4\n",
       "8      5\n",
       "9     16\n",
       "10     3\n",
       "11     6\n",
       "12    10\n",
       "13    15\n",
       "14     1\n",
       "15    14\n",
       "Name: ranking, dtype: int64"
      ]
     },
     "execution_count": 5,
     "metadata": {},
     "output_type": "execute_result"
    }
   ],
   "source": [
    "attributes = ['brand', 'startup', 'monthly', 'service', 'retail', 'apple', 'samsung', 'google']\n",
    "data = pandas.read_csv('mobile_services_ranking.csv')\n",
    "data['ranking']"
   ]
  },
  {
   "cell_type": "code",
   "execution_count": 6,
   "metadata": {},
   "outputs": [
    {
     "name": "stdout",
     "output_type": "stream",
     "text": [
      "17.5\n",
      "{'level': '\"AT&T\"', 'avg': 4.25, 'part_worth': 4.25}\n",
      "17.75\n",
      "{'level': '\"Verizon\"', 'avg': 4.375, 'part_worth': 4.125}\n",
      "17.5\n",
      "{'level': '\"US Cellular\"', 'avg': 4.25, 'part_worth': 4.25}\n",
      "17.25\n",
      "{'level': '\"T-Mobile\"', 'avg': 4.125, 'part_worth': 4.375}\n",
      "18.25\n",
      "{'level': '\"$100\"', 'avg': 4.625, 'part_worth': 3.875}\n",
      "17.5\n",
      "{'level': '\"$300\"', 'avg': 4.25, 'part_worth': 4.25}\n",
      "16.75\n",
      "{'level': '\"$400\"', 'avg': 3.875, 'part_worth': 4.625}\n",
      "17.5\n",
      "{'level': '\"$200\"', 'avg': 4.25, 'part_worth': 4.25}\n",
      "22.5\n",
      "{'level': '\"$100\"', 'avg': 6.75, 'part_worth': 1.75}\n",
      "19.5\n",
      "{'level': '\"$200\"', 'avg': 5.25, 'part_worth': 3.25}\n",
      "11.75\n",
      "{'level': '\"$400\"', 'avg': 1.375, 'part_worth': 7.125}\n",
      "16.25\n",
      "{'level': '\"$300\"', 'avg': 3.625, 'part_worth': 4.875}\n",
      "22.5\n",
      "{'level': '\"4G NO\"', 'avg': 6.75, 'part_worth': 1.75}\n",
      "29.5\n",
      "{'level': '\"4G YES\"', 'avg': 10.25, 'part_worth': -1.75}\n",
      "26.5\n",
      "{'level': '\"Retail NO\"', 'avg': 8.75, 'part_worth': -0.25}\n",
      "25.5\n",
      "{'level': '\"Retail YES\"', 'avg': 8.25, 'part_worth': 0.25}\n",
      "26.5\n",
      "{'level': '\"Apple NO\"', 'avg': 8.75, 'part_worth': -0.25}\n",
      "25.5\n",
      "{'level': '\"Apple YES\"', 'avg': 8.25, 'part_worth': 0.25}\n",
      "23.75\n",
      "{'level': '\"Samsung NO\"', 'avg': 7.375, 'part_worth': 1.125}\n",
      "28.25\n",
      "{'level': '\"Samsung YES\"', 'avg': 9.625, 'part_worth': -1.125}\n",
      "24.5\n",
      "{'level': '\"Nexus NO\"', 'avg': 7.75, 'part_worth': 0.75}\n",
      "27.5\n",
      "{'level': '\"Nexus YES\"', 'avg': 9.25, 'part_worth': -0.75}\n",
      "[0.25, 0.75, 5.375, 3.5, 0.5, 0.5, 2.25, 1.5]\n",
      "[0.01709402 0.05128205 0.36752137 0.23931624 0.03418803 0.03418803\n",
      " 0.15384615 0.1025641 ]\n"
     ]
    }
   ],
   "source": [
    "part_worth_range = []\n",
    "for item in attributes:\n",
    "    counter = Counter(data[item])\n",
    "\n",
    "    levels = counter.keys()\n",
    "    part_worth = []\n",
    "#     part_worth_range\n",
    "    for level in levels:\n",
    "        count=0;\n",
    "        d = {}\n",
    "        ##水平\n",
    "        d['level'] = level\n",
    "        for row in range(16):\n",
    "            if data[item][row]==level:\n",
    "                count=count+data['ranking'][row]\n",
    "        ##平均秩  \n",
    "        d['avg'] = count/8\n",
    "        ##产品轮廓个数\n",
    "        n = 2*(count/8+5)-1\n",
    "        print(n)\n",
    "        n = 16.\n",
    "        ##效用值\n",
    "        d['part_worth'] = (n+1)/2 - d['avg']\n",
    "        \n",
    "        part_worth.append((n+1)/2 - count/8)\n",
    "        \n",
    "        print(d)\n",
    "    ##分值距离\n",
    "    part_worth_range.append( max(part_worth)-min(part_worth))\n",
    "    \n",
    "    d['part_worth_range'] = max(part_worth)-min(part_worth)\n",
    "    \n",
    "print(part_worth_range)\n",
    "attribute_importance = part_worth_range/sum(part_worth_range)\n",
    "print(attribute_importance)\n",
    "     \n",
    "    "
   ]
  },
  {
   "cell_type": "code",
   "execution_count": null,
   "metadata": {},
   "outputs": [],
   "source": []
  },
  {
   "cell_type": "code",
   "execution_count": null,
   "metadata": {},
   "outputs": [],
   "source": []
  }
 ],
 "metadata": {
  "kernelspec": {
   "display_name": "Python 3",
   "language": "python",
   "name": "python3"
  },
  "language_info": {
   "codemirror_mode": {
    "name": "ipython",
    "version": 3
   },
   "file_extension": ".py",
   "mimetype": "text/x-python",
   "name": "python",
   "nbconvert_exporter": "python",
   "pygments_lexer": "ipython3",
   "version": "3.6.5"
  }
 },
 "nbformat": 4,
 "nbformat_minor": 2
}
