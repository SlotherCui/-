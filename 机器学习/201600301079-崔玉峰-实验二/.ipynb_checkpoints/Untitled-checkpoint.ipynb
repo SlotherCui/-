{
 "cells": [
  {
   "cell_type": "code",
   "execution_count": 26,
   "metadata": {},
   "outputs": [],
   "source": [
    "import numpy as np\n",
    "import csv\n",
    "import math"
   ]
  },
  {
   "cell_type": "markdown",
   "metadata": {},
   "source": [
    "# 数据加载"
   ]
  },
  {
   "cell_type": "code",
   "execution_count": 27,
   "metadata": {},
   "outputs": [
    {
     "data": {
      "text/plain": [
       "array([[ 4.2e-01, -8.7e-02,  5.8e-01],\n",
       "       [-2.0e-01, -3.3e+00, -3.4e+00],\n",
       "       [ 1.3e+00, -3.2e-01,  1.7e+00],\n",
       "       [ 3.9e-01,  7.1e-01,  2.3e-01],\n",
       "       [-1.6e+00, -5.3e+00, -1.5e-01],\n",
       "       [-2.9e-02,  8.9e-01, -4.7e+00],\n",
       "       [ 2.3e-01,  1.9e+00,  2.2e+00],\n",
       "       [ 2.7e-01, -3.0e-01, -8.7e-01],\n",
       "       [-1.9e+00,  7.6e-01,  2.1e+00],\n",
       "       [ 8.7e-01, -1.0e+00, -2.6e+00],\n",
       "       [-4.0e-01,  5.8e-01,  8.9e-02],\n",
       "       [-3.1e-01,  2.7e-01, -4.0e-02],\n",
       "       [ 3.8e-01,  5.5e-02,  3.5e-02],\n",
       "       [-1.5e-01,  5.3e-01,  1.1e-02],\n",
       "       [-3.5e-01,  4.7e-01,  3.4e-02],\n",
       "       [ 1.7e-01,  6.9e-01,  1.0e-01],\n",
       "       [-1.1e-02,  5.5e-01, -1.8e-01],\n",
       "       [ 2.7e-01,  6.1e-01,  1.2e-01],\n",
       "       [-6.5e-02,  4.9e-01,  1.2e-03],\n",
       "       [-1.2e-01,  5.4e-02, -6.3e-02],\n",
       "       [ 8.3e-01,  1.6e+00, -1.4e-02],\n",
       "       [ 1.1e+00,  1.6e+00,  4.8e-01],\n",
       "       [-4.4e-01, -4.1e-01,  3.2e-01],\n",
       "       [ 4.7e-02, -4.5e-01,  1.4e+00],\n",
       "       [ 2.8e-01,  3.5e-01,  3.1e+00],\n",
       "       [-3.9e-01, -4.8e-01,  1.1e-01],\n",
       "       [ 3.4e-01, -7.9e-02,  1.4e-01],\n",
       "       [-3.0e-01, -2.2e-01,  2.2e+00],\n",
       "       [ 1.1e+00,  1.2e+00, -4.6e-01],\n",
       "       [ 1.8e-01, -1.1e-01, -4.9e-01]])"
      ]
     },
     "execution_count": 27,
     "metadata": {},
     "output_type": "execute_result"
    }
   ],
   "source": [
    "data=[]\n",
    "with open('data.csv','r') as f:\n",
    "    reader = csv.reader(f)\n",
    "    for row in reader:\n",
    "        if row[0]!=\"x1\":\n",
    "            data.append(row)\n",
    "data = np.array(data,dtype='float')\n",
    "\n",
    "y  = np.arange(30)\n",
    "for i in y:\n",
    "    y[i] = i/10\n",
    "data"
   ]
  },
  {
   "cell_type": "code",
   "execution_count": 43,
   "metadata": {},
   "outputs": [],
   "source": [
    "def Mean(dataw):\n",
    "    u=[]\n",
    "    \n",
    "    print(dataw.shape)\n",
    "    for i in range(3):\n",
    "        u.append(np.mean(dataw[:,i]))\n",
    "    u=np.array(u)\n",
    "    print(u)\n",
    "    return u\n",
    "    \n",
    "def Variance(dataw,u):\n",
    "    sigma = []\n",
    "    \n",
    "    for i in range(3):\n",
    "        sigma.append(np.sum(dataw[:,i]-u[i])/dataw.shape[0])\n",
    "        \n",
    "    sigma=np.array(sigma)\n",
    "    print(sigma)\n",
    "    return sigma"
   ]
  },
  {
   "cell_type": "code",
   "execution_count": 44,
   "metadata": {},
   "outputs": [
    {
     "name": "stdout",
     "output_type": "stream",
     "text": [
      "(10, 3)\n",
      "[-0.0249 -0.6047 -0.491 ]\n",
      "[-2.22044605e-17  4.44089210e-17  0.00000000e+00]\n"
     ]
    },
    {
     "data": {
      "text/plain": [
       "array([-2.22044605e-17,  4.44089210e-17,  0.00000000e+00])"
      ]
     },
     "execution_count": 44,
     "metadata": {},
     "output_type": "execute_result"
    }
   ],
   "source": [
    "dataw = data[y==0]\n",
    "\n",
    "u = Mean(dataw)\n",
    "Variance(dataw,u)"
   ]
  },
  {
   "cell_type": "code",
   "execution_count": null,
   "metadata": {},
   "outputs": [],
   "source": []
  }
 ],
 "metadata": {
  "kernelspec": {
   "display_name": "Python 3",
   "language": "python",
   "name": "python3"
  },
  "language_info": {
   "codemirror_mode": {
    "name": "ipython",
    "version": 3
   },
   "file_extension": ".py",
   "mimetype": "text/x-python",
   "name": "python",
   "nbconvert_exporter": "python",
   "pygments_lexer": "ipython3",
   "version": "3.6.4"
  }
 },
 "nbformat": 4,
 "nbformat_minor": 2
}
