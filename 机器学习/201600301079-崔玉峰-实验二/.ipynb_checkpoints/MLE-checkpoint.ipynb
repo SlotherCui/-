{
 "cells": [
  {
   "cell_type": "code",
   "execution_count": 3,
   "metadata": {},
   "outputs": [],
   "source": [
    "import numpy as np\n",
    "import csv\n",
    "import math"
   ]
  },
  {
   "cell_type": "markdown",
   "metadata": {},
   "source": [
    "# 数据加载"
   ]
  },
  {
   "cell_type": "code",
   "execution_count": 4,
   "metadata": {},
   "outputs": [
    {
     "data": {
      "text/plain": [
       "array([[ 4.2e-01, -8.7e-02,  5.8e-01],\n",
       "       [-2.0e-01, -3.3e+00, -3.4e+00],\n",
       "       [ 1.3e+00, -3.2e-01,  1.7e+00],\n",
       "       [ 3.9e-01,  7.1e-01,  2.3e-01],\n",
       "       [-1.6e+00, -5.3e+00, -1.5e-01],\n",
       "       [-2.9e-02,  8.9e-01, -4.7e+00],\n",
       "       [ 2.3e-01,  1.9e+00,  2.2e+00],\n",
       "       [ 2.7e-01, -3.0e-01, -8.7e-01],\n",
       "       [-1.9e+00,  7.6e-01,  2.1e+00],\n",
       "       [ 8.7e-01, -1.0e+00, -2.6e+00],\n",
       "       [-4.0e-01,  5.8e-01,  8.9e-02],\n",
       "       [-3.1e-01,  2.7e-01, -4.0e-02],\n",
       "       [ 3.8e-01,  5.5e-02,  3.5e-02],\n",
       "       [-1.5e-01,  5.3e-01,  1.1e-02],\n",
       "       [-3.5e-01,  4.7e-01,  3.4e-02],\n",
       "       [ 1.7e-01,  6.9e-01,  1.0e-01],\n",
       "       [-1.1e-02,  5.5e-01, -1.8e-01],\n",
       "       [ 2.7e-01,  6.1e-01,  1.2e-01],\n",
       "       [-6.5e-02,  4.9e-01,  1.2e-03],\n",
       "       [-1.2e-01,  5.4e-02, -6.3e-02],\n",
       "       [ 8.3e-01,  1.6e+00, -1.4e-02],\n",
       "       [ 1.1e+00,  1.6e+00,  4.8e-01],\n",
       "       [-4.4e-01, -4.1e-01,  3.2e-01],\n",
       "       [ 4.7e-02, -4.5e-01,  1.4e+00],\n",
       "       [ 2.8e-01,  3.5e-01,  3.1e+00],\n",
       "       [-3.9e-01, -4.8e-01,  1.1e-01],\n",
       "       [ 3.4e-01, -7.9e-02,  1.4e-01],\n",
       "       [-3.0e-01, -2.2e-01,  2.2e+00],\n",
       "       [ 1.1e+00,  1.2e+00, -4.6e-01],\n",
       "       [ 1.8e-01, -1.1e-01, -4.9e-01]])"
      ]
     },
     "execution_count": 4,
     "metadata": {},
     "output_type": "execute_result"
    }
   ],
   "source": [
    "data=[]\n",
    "with open('data.csv','r') as f:\n",
    "    reader = csv.reader(f)\n",
    "    for row in reader:\n",
    "        if row[0]!=\"x1\":\n",
    "            data.append(row)\n",
    "data = np.array(data,dtype='float')\n",
    "\n",
    "y  = np.arange(30)\n",
    "for i in y:\n",
    "    y[i] = i/10\n",
    "data"
   ]
  },
  {
   "cell_type": "markdown",
   "metadata": {},
   "source": [
    "# 求解极大似然估计"
   ]
  },
  {
   "cell_type": "code",
   "execution_count": 10,
   "metadata": {},
   "outputs": [],
   "source": [
    "##均值\n",
    "def Mean(dataw):\n",
    "    u=[]\n",
    "    for i in range(dataw.shape[1]):\n",
    "        u.append(np.mean(dataw[:,i]))\n",
    "    u=np.array(u)\n",
    "    \n",
    "    return u\n",
    "##方差\n",
    "def Variance(dataw,u):\n",
    "    sigma = []\n",
    "    \n",
    "    for i in range(dataw.shape[0]):\n",
    "        var1 = dataw[i]-u\n",
    "        var1 = var1.reshape(-1,1)\n",
    "        sigma.append(var1.dot(var1.T))\n",
    "        \n",
    "    sigma=np.array(sigma)\n",
    "    sigma = sum(sigma)/dataw.shape[0]\n",
    "    return sigma\n",
    "    "
   ]
  },
  {
   "cell_type": "markdown",
   "metadata": {},
   "source": [
    "# 题目a求解"
   ]
  },
  {
   "cell_type": "code",
   "execution_count": 11,
   "metadata": {},
   "outputs": [
    {
     "name": "stdout",
     "output_type": "stream",
     "text": [
      "均值：[-0.0249]\n",
      "方差：[0.91058409]\n",
      "\n",
      "均值：[-0.6047]\n",
      "方差：[4.20071481]\n",
      "\n",
      "均值：[-0.491]\n",
      "方差：[5.130789]\n",
      "\n"
     ]
    }
   ],
   "source": [
    "\n",
    "for i in range(3):\n",
    "    dataw = data[y==0,i:i+1]\n",
    "    u = Mean(dataw)\n",
    "    sigma = Variance(dataw,u)\n",
    "    print(\"均值：\"+str(u))\n",
    "    print(\"方差：\"+str(sigma[0]))\n",
    "    print()"
   ]
  },
  {
   "cell_type": "markdown",
   "metadata": {},
   "source": [
    "# 题目b求解"
   ]
  },
  {
   "cell_type": "code",
   "execution_count": 18,
   "metadata": {},
   "outputs": [
    {
     "name": "stdout",
     "output_type": "stream",
     "text": [
      "均值：[-0.0249 -0.6047]\n",
      "协方差：[[0.91058409 0.68299797]\n",
      " [0.68299797 4.20071481]]\n",
      "\n",
      "均值：[-0.6047 -0.491 ]\n",
      "协方差：[[4.20071481 1.3068763 ]\n",
      " [1.3068763  5.130789  ]]\n",
      "\n",
      "均值：[-0.0249 -0.491 ]\n",
      "协方差：[[ 0.91058409 -0.2503559 ]\n",
      " [-0.2503559   5.130789  ]]\n",
      "\n"
     ]
    }
   ],
   "source": [
    "dataw = data[y==0,0:2]\n",
    "u = Mean(dataw)\n",
    "sigma = Variance(dataw,u)\n",
    "print(\"均值：\"+str(u))\n",
    "print(\"协方差：\"+str(sigma))\n",
    "print()\n",
    "\n",
    "dataw = data[y==0,1:3]\n",
    "u = Mean(dataw)\n",
    "sigma = Variance(dataw,u)\n",
    "print(\"均值：\"+str(u))\n",
    "print(\"协方差：\"+str(sigma))\n",
    "print()\n",
    "\n",
    "\n",
    "dataw = data[y==0,0:3:2]\n",
    "u = Mean(dataw)\n",
    "sigma = Variance(dataw,u)\n",
    "print(\"均值：\"+str(u))\n",
    "print(\"协方差：\"+str(sigma))\n",
    "print()\n",
    "\n"
   ]
  },
  {
   "cell_type": "markdown",
   "metadata": {},
   "source": [
    "# 题目c"
   ]
  },
  {
   "cell_type": "code",
   "execution_count": 17,
   "metadata": {},
   "outputs": [
    {
     "name": "stdout",
     "output_type": "stream",
     "text": [
      "均值：[-0.0249 -0.6047 -0.491 ]\n",
      "协方差：[[ 0.91058409  0.68299797 -0.2503559 ]\n",
      " [ 0.68299797  4.20071481  1.3068763 ]\n",
      " [-0.2503559   1.3068763   5.130789  ]]\n",
      "\n"
     ]
    }
   ],
   "source": [
    "dataw = data[y==0,0:3]\n",
    "u = Mean(dataw)\n",
    "sigma = Variance(dataw,u)\n",
    "print(\"均值：\"+str(u))\n",
    "print(\"协方差：\"+str(sigma))\n",
    "print()\n"
   ]
  },
  {
   "cell_type": "markdown",
   "metadata": {},
   "source": [
    "# 题目d"
   ]
  },
  {
   "cell_type": "code",
   "execution_count": 16,
   "metadata": {},
   "outputs": [
    {
     "name": "stdout",
     "output_type": "stream",
     "text": [
      "[[0.06317064 0.         0.        ]\n",
      " [0.         0.04597009 0.        ]\n",
      " [0.         0.         0.00716443]]\n"
     ]
    }
   ],
   "source": [
    "sigma = []\n",
    "for i in range(3):\n",
    "    dataw = data[y==1,i:i+1]\n",
    "    sigma.append(Variance(dataw,Mean(dataw)))\n",
    "    \n",
    "sigma = np.array(sigma).reshape(1,-1)\n",
    "sigma = np.diag(sigma[0])\n",
    "print(sigma)"
   ]
  },
  {
   "cell_type": "code",
   "execution_count": 6,
   "metadata": {},
   "outputs": [
    {
     "name": "stdout",
     "output_type": "stream",
     "text": [
      "[[0.91058409 0.         0.        ]\n",
      " [0.         4.20071481 0.        ]\n",
      " [0.         0.         5.130789  ]]\n"
     ]
    }
   ],
   "source": [
    "sigma = []\n",
    "for i in range(3):\n",
    "    dataw = data[y==0,i]\n",
    "    sigma.append(Variance(dataw,np.mean(dataw)))\n",
    "    \n",
    "sigma = np.array(sigma).reshape(1,-1)\n",
    "sigma = np.diag(sigma[0])\n",
    "print(sigma)"
   ]
  },
  {
   "cell_type": "code",
   "execution_count": null,
   "metadata": {},
   "outputs": [],
   "source": []
  }
 ],
 "metadata": {
  "kernelspec": {
   "display_name": "Python 3",
   "language": "python",
   "name": "python3"
  },
  "language_info": {
   "codemirror_mode": {
    "name": "ipython",
    "version": 3
   },
   "file_extension": ".py",
   "mimetype": "text/x-python",
   "name": "python",
   "nbconvert_exporter": "python",
   "pygments_lexer": "ipython3",
   "version": "3.6.4"
  }
 },
 "nbformat": 4,
 "nbformat_minor": 2
}
