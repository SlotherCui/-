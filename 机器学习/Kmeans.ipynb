{
 "cells": [
  {
   "cell_type": "markdown",
   "metadata": {},
   "source": [
    "# K-Means"
   ]
  },
  {
   "cell_type": "code",
   "execution_count": 1,
   "metadata": {},
   "outputs": [],
   "source": [
    "import numpy as np\n",
    "import matplotlib.pyplot as plt"
   ]
  },
  {
   "cell_type": "markdown",
   "metadata": {},
   "source": [
    "## 计算距离欧式距离"
   ]
  },
  {
   "cell_type": "code",
   "execution_count": 2,
   "metadata": {},
   "outputs": [],
   "source": [
    "def distance(a,b):\n",
    "    return np.sqrt(np.sum((a-b)**2))\n",
    "    "
   ]
  },
  {
   "cell_type": "markdown",
   "metadata": {},
   "source": [
    "## K-Means算法实现"
   ]
  },
  {
   "cell_type": "code",
   "execution_count": 3,
   "metadata": {},
   "outputs": [],
   "source": [
    "def KMeans(data, k,accuracy=0.1):\n",
    "    ##样本数量\n",
    "    n = data.shape[0]\n",
    "    \n",
    "    ##样本聚类结果集\n",
    "    cluster_result=np.zeros((n,2))\n",
    "\n",
    "    ##随机生成初始质心\n",
    "    t =[k]\n",
    "    for i in data.shape[1:]:\n",
    "        t.append(i)\n",
    "    centroid  = np.zeros(t)\n",
    "    for i in range(k):\n",
    "        centroid[i] = data[np.random.randint(0, n)]\n",
    "   \n",
    "    ##改变种类的样本的个数\n",
    "    change = n\n",
    "    ##最大循环数\n",
    "    count = 0\n",
    "    ##寻找  \n",
    "    while change>n*accuracy and count<1000:\n",
    "        change=0\n",
    "        for i in range(n):\n",
    "            min_dis=np.inf\n",
    "            min_j = -1\n",
    "            ##计算最近质心的距离\n",
    "            for j in range(k):\n",
    "                dis = distance(centroid[j],data[i])\n",
    "                if(dis<min_dis):\n",
    "                    min_dis = dis\n",
    "                    min_j = j\n",
    "                    \n",
    "             ##计算变化的个数\n",
    "            if cluster_result[i,0] !=min_j:\n",
    "                change=change+1\n",
    "            \n",
    "            cluster_result[i,0] = min_j\n",
    "            cluster_result[i,1] = min_dis**2\n",
    "        ##重新生成质心\n",
    "        for m in range(k):\n",
    "            ptsInClust = data[cluster_result[:,0]==m]\n",
    "            centroid[m]=np.mean(ptsInClust,axis=0)\n",
    "        count=count+1\n",
    "                \n",
    "    return centroid,cluster_result"
   ]
  },
  {
   "cell_type": "markdown",
   "metadata": {},
   "source": [
    "## 生成测试数据"
   ]
  },
  {
   "cell_type": "code",
   "execution_count": 7,
   "metadata": {},
   "outputs": [
    {
     "data": {
      "text/plain": [
       "<matplotlib.collections.PathCollection at 0x1aeedf27d68>"
      ]
     },
     "execution_count": 7,
     "metadata": {},
     "output_type": "execute_result"
    },
    {
     "data": {
      "image/png": "[encoded data removed]",
      "text/plain": [
       "<matplotlib.figure.Figure at 0x1aeedac3cf8>"
      ]
     },
     "metadata": {},
     "output_type": "display_data"
    }
   ],
   "source": [
    "# data = np.arange(100).reshape(4,-1)\n",
    "# KMeans(data,1)\n",
    "\n",
    "data = np.empty((100,2))\n",
    "# data[:,0] = np.random.uniform(0,100,size=100)\n",
    "# data[:,1] = 0.75*data[:,0] + 3 + np.random.normal(0,10,size=100)\n",
    "noise = 1.5\n",
    "for i in range(100) :\n",
    "    t = np.random.randint(0,3)\n",
    "    if t==0:\n",
    "        data[i,0]=np.random.normal(0,noise)\n",
    "        data[i,1]= np.random.normal(0,noise)\n",
    "    if t==1:\n",
    "        data[i,0]=10+np.random.normal(0,noise)\n",
    "        data[i,1]= 5+np.random.normal(0,noise)\n",
    "    if t==2:\n",
    "        data[i,0]=15+np.random.normal(0,noise)\n",
    "        data[i,1]= 10+np.random.normal(0,noise)\n",
    "\n",
    "plt.scatter(data[:,0],data[:,1])"
   ]
  },
  {
   "cell_type": "markdown",
   "metadata": {},
   "source": [
    "## 测试算法效果"
   ]
  },
  {
   "cell_type": "code",
   "execution_count": 8,
   "metadata": {},
   "outputs": [
    {
     "data": {
      "image/png": "[encoded data removed]",
      "text/plain": [
       "<matplotlib.figure.Figure at 0x1aeedef9c50>"
      ]
     },
     "metadata": {},
     "output_type": "display_data"
    }
   ],
   "source": [
    "k=3\n",
    "\n",
    "y =KMeans(data, k)\n",
    "centroid=y[0]\n",
    "cluster_result=y[1]\n",
    "\n",
    "for i in range(k):\n",
    "    plt.scatter(data[cluster_result[:,0]==i,0],data[cluster_result[:,0]==i,1])\n",
    "    \n",
    "plt.scatter(centroid[:,0],centroid[:,1])\n",
    "plt.show()"
   ]
  },
  {
   "cell_type": "code",
   "execution_count": null,
   "metadata": {},
   "outputs": [],
   "source": []
  },
  {
   "cell_type": "code",
   "execution_count": null,
   "metadata": {},
   "outputs": [],
   "source": []
  },
  {
   "cell_type": "code",
   "execution_count": null,
   "metadata": {},
   "outputs": [],
   "source": []
  },
  {
   "cell_type": "code",
   "execution_count": null,
   "metadata": {},
   "outputs": [],
   "source": []
  }
 ],
 "metadata": {
  "kernelspec": {
   "display_name": "Python 3",
   "language": "python",
   "name": "python3"
  },
  "language_info": {
   "codemirror_mode": {
    "name": "ipython",
    "version": 3
   },
   "file_extension": ".py",
   "mimetype": "text/x-python",
   "name": "python",
   "nbconvert_exporter": "python",
   "pygments_lexer": "ipython3",
   "version": "3.6.4"
  }
 },
 "nbformat": 4,
 "nbformat_minor": 2
}
