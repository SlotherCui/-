{
 "cells": [
  {
   "cell_type": "code",
   "execution_count": 1,
   "metadata": {},
   "outputs": [],
   "source": [
    "import numpy as np\n",
    "import csv"
   ]
  },
  {
   "cell_type": "markdown",
   "metadata": {},
   "source": [
    "# 数据加载"
   ]
  },
  {
   "cell_type": "code",
   "execution_count": 2,
   "metadata": {},
   "outputs": [
    {
     "data": {
      "text/plain": [
       "array([[-5.01, -8.12, -3.68],\n",
       "       [-5.43, -3.48, -3.54],\n",
       "       [ 1.08, -5.52,  1.66],\n",
       "       [ 0.86, -3.78, -4.11],\n",
       "       [-2.67,  0.63,  7.39],\n",
       "       [ 4.94,  3.29,  2.08],\n",
       "       [-2.51,  2.09, -2.59],\n",
       "       [-2.25, -2.13, -6.94],\n",
       "       [ 5.56,  2.86, -2.26],\n",
       "       [ 1.03, -3.33,  4.33],\n",
       "       [-0.91, -0.18, -0.05],\n",
       "       [ 1.3 , -2.06, -3.53],\n",
       "       [-7.75, -4.54, -0.95],\n",
       "       [-5.47,  0.5 ,  3.92],\n",
       "       [ 6.14,  5.72, -4.85],\n",
       "       [ 3.6 ,  1.26,  4.36],\n",
       "       [ 5.37, -4.63, -3.65],\n",
       "       [ 7.18,  1.46, -6.66],\n",
       "       [-7.39,  1.17,  6.3 ],\n",
       "       [-7.5 , -6.32, -0.31],\n",
       "       [ 5.35,  2.26,  8.13],\n",
       "       [ 5.12,  3.22, -2.66],\n",
       "       [-1.34, -5.31, -9.87],\n",
       "       [ 4.48,  3.42,  5.19],\n",
       "       [ 7.11,  2.39,  9.21],\n",
       "       [ 7.17,  4.33, -0.98],\n",
       "       [ 5.75,  3.97,  6.65],\n",
       "       [ 0.77,  0.27,  2.41],\n",
       "       [ 0.9 , -0.43, -8.71],\n",
       "       [ 3.52, -0.36,  6.43]])"
      ]
     },
     "execution_count": 2,
     "metadata": {},
     "output_type": "execute_result"
    }
   ],
   "source": [
    "data=[]\n",
    "with open('data.csv','r') as f:\n",
    "    reader = csv.reader(f)\n",
    "    for row in reader:\n",
    "        if row[0]!=\"x1\":\n",
    "            data.append(row)\n",
    "data = np.array(data,dtype='float')\n",
    "\n",
    "y  = np.arange(30)\n",
    "for i in y:\n",
    "    y[i] = i/10\n",
    "data"
   ]
  },
  {
   "cell_type": "code",
   "execution_count": 3,
   "metadata": {},
   "outputs": [
    {
     "data": {
      "text/plain": [
       "<matplotlib.figure.Figure at 0x275f7f2fa90>"
      ]
     },
     "metadata": {},
     "output_type": "display_data"
    }
   ],
   "source": [
    "import matplotlib.pyplot as plt\n",
    "from mpl_toolkits import mplot3d\n",
    "fig = plt.figure() \n",
    "ax = plt.axes(projection='3d') \n",
    "\n",
    "# xdata = data[0,0]\n",
    "# xdata\n",
    "ax.scatter3D(data[y==0,0], data[y==0,1], data[y==0,2]);\n",
    "ax.scatter3D(data[y==1,0], data[y==1,1], data[y==1,2]);\n",
    "ax.scatter3D(data[y==2,0], data[y==2,1], data[y==2,2]);\n",
    "\n",
    "plt.show()"
   ]
  },
  {
   "cell_type": "markdown",
   "metadata": {},
   "source": [
    "# 马氏距离"
   ]
  },
  {
   "cell_type": "code",
   "execution_count": 4,
   "metadata": {},
   "outputs": [],
   "source": [
    "def MahalanobisDistance(x,dataw):\n",
    "    \n",
    "    sigma=np.cov(dataw.T)\n",
    "    \n",
    "    u=[]\n",
    "    for i in range(sigma.shape[0]):\n",
    "        u.append(np.mean(dataw[:,i]))\n",
    "    u=np.array(u)\n",
    "    return (x-u).dot(np.linalg.inv(sigma)).dot((x-u).T)\n",
    "\n",
    "    "
   ]
  },
  {
   "cell_type": "code",
   "execution_count": 5,
   "metadata": {},
   "outputs": [
    {
     "name": "stdout",
     "output_type": "stream",
     "text": [
      "1.0301653618906046\n",
      "0.7362518539789066\n",
      "7.15432520594351\n",
      "2.42467940816698\n",
      "3.082414680510369\n",
      "0.41862066431731865\n",
      "0.24006231221696472\n",
      "0.07205595935753471\n",
      "5.0243283984048475\n",
      "0.23739965901599094\n",
      "0.20415428178510833\n",
      "2.1384277516143784\n"
     ]
    }
   ],
   "source": [
    "Mx = []\n",
    "Mx.append(np.array([1,2,1]))\n",
    "Mx.append(np.array([5,3,2]))\n",
    "Mx.append(np.array([0,0,0]))\n",
    "Mx.append(np.array([1,0,0]))\n",
    "\n",
    "for mx in Mx:\n",
    "    for i in range(3):\n",
    "        u=MahalanobisDistance(mx,data[y==i])\n",
    "        print(u)\n",
    "\n"
   ]
  },
  {
   "cell_type": "markdown",
   "metadata": {},
   "source": [
    "# 贝叶斯分类"
   ]
  },
  {
   "cell_type": "code",
   "execution_count": 9,
   "metadata": {},
   "outputs": [],
   "source": [
    "import math\n",
    "def bayesian_classification(x_predict, Pw, dataw):\n",
    "    \n",
    "    MahDistamce = MahalanobisDistance(x_predict,dataw)\n",
    "    \n",
    "    d = x_predict.shape[0]\n",
    "\n",
    "    sigma=np.cov(dataw.T)\n",
    "    \n",
    "    sigmaV = np.linalg.det(sigma)\n",
    "    \n",
    "    likelihood = 0.5*math.pow(math.pi,-1*d/2)*math.pow(sigmaV,-0.5)*math.exp(MahDistamce*0.5)\n",
    "    \n",
    "    return Pw*likelihood"
   ]
  },
  {
   "cell_type": "code",
   "execution_count": 10,
   "metadata": {},
   "outputs": [
    {
     "name": "stdout",
     "output_type": "stream",
     "text": [
      "0.0009536626734562905\n",
      "0.0007383178471275056\n",
      "0.052600466373643906\n",
      "\n",
      "0.0019151802840550937\n",
      "0.002386196208021125\n",
      "0.0018128001885651863\n",
      "\n",
      "0.0006424304053096325\n",
      "0.000529681812101275\n",
      "0.01813287487696945\n",
      "\n",
      "0.0006415756897011386\n",
      "0.000565848080378163\n",
      "0.0042835249580435875\n",
      "\n"
     ]
    }
   ],
   "source": [
    "a =1/3\n",
    "Pw = [a,a,a]\n",
    "\n",
    "\n",
    "for mx in Mx:\n",
    "    for i in range(3):\n",
    "        y_predict = bayesian_classification(mx, Pw[i],data[y==i])\n",
    "        print(y_predict)\n",
    "    print()\n"
   ]
  },
  {
   "cell_type": "code",
   "execution_count": 11,
   "metadata": {},
   "outputs": [
    {
     "name": "stdout",
     "output_type": "stream",
     "text": [
      "0.0022887904162950975\n",
      "0.0002214953541382517\n",
      "0.015780139912093174\n",
      "\n",
      "0.0045964326817322255\n",
      "0.0007158588624063376\n",
      "0.000543840056569556\n",
      "\n",
      "0.001541832972743118\n",
      "0.0001589045436303825\n",
      "0.005439862463090835\n",
      "\n",
      "0.0015397816552827329\n",
      "0.00016975442411344894\n",
      "0.0012850574874130763\n",
      "\n"
     ]
    }
   ],
   "source": [
    "Pw = [0.8,0.1,0.1]\n",
    "for mx in Mx:\n",
    "    for i in range(3):\n",
    "        y_predict = bayesian_classification(mx, Pw[i],data[y==i])\n",
    "        print(y_predict)\n",
    "    print()"
   ]
  },
  {
   "cell_type": "code",
   "execution_count": 12,
   "metadata": {},
   "outputs": [],
   "source": [
    "from sklearn.datasets import load_iris\n",
    "\n",
    "datai = load_iris().data\n",
    "\n",
    "\n",
    "yi = load_iris().target\n",
    "\n",
    "datai = datai[:,1:3]\n",
    "\n"
   ]
  },
  {
   "cell_type": "code",
   "execution_count": 13,
   "metadata": {},
   "outputs": [
    {
     "name": "stdout",
     "output_type": "stream",
     "text": [
      "1\n",
      "9.323333775614562e+78\n",
      "1.701104077080937\n",
      "\n"
     ]
    }
   ],
   "source": [
    "a =1/2\n",
    "Pw = [a,a]\n",
    "\n",
    "mx = datai[50]\n",
    "print(yi[50])\n",
    "for i in range(2):\n",
    "    y_predict = bayesian_classification(mx, Pw[i],datai[yi==i])\n",
    "    print(y_predict)\n",
    "print()"
   ]
  },
  {
   "cell_type": "code",
   "execution_count": null,
   "metadata": {},
   "outputs": [],
   "source": []
  }
 ],
 "metadata": {
  "kernelspec": {
   "display_name": "Python 3",
   "language": "python",
   "name": "python3"
  },
  "language_info": {
   "codemirror_mode": {
    "name": "ipython",
    "version": 3
   },
   "file_extension": ".py",
   "mimetype": "text/x-python",
   "name": "python",
   "nbconvert_exporter": "python",
   "pygments_lexer": "ipython3",
   "version": "3.6.4"
  }
 },
 "nbformat": 4,
 "nbformat_minor": 2
}
