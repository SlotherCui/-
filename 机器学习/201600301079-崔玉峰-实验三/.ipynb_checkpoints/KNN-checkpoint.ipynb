{
 "cells": [
  {
   "cell_type": "code",
   "execution_count": 49,
   "metadata": {},
   "outputs": [],
   "source": [
    "import numpy as np\n",
    "import csv\n",
    "import math\n",
    "from collections import Counter\n",
    "import matplotlib.pyplot as plt"
   ]
  },
  {
   "cell_type": "markdown",
   "metadata": {},
   "source": [
    "# 数据加载"
   ]
  },
  {
   "cell_type": "code",
   "execution_count": 38,
   "metadata": {},
   "outputs": [
    {
     "data": {
      "text/plain": [
       "array([[ 0.28 ,  1.31 , -6.2  ],\n",
       "       [ 0.07 ,  0.58 , -0.78 ],\n",
       "       [ 1.54 ,  2.01 , -1.63 ],\n",
       "       [-0.44 ,  1.18 , -4.32 ],\n",
       "       [-0.81 ,  0.21 ,  5.73 ],\n",
       "       [ 1.52 ,  3.16 ,  2.77 ],\n",
       "       [ 2.2  ,  2.42 , -0.19 ],\n",
       "       [ 0.91 ,  1.94 ,  6.21 ],\n",
       "       [ 0.65 ,  1.93 ,  4.38 ],\n",
       "       [-0.26 ,  0.82 , -0.96 ],\n",
       "       [ 0.011,  1.03 , -0.21 ],\n",
       "       [ 1.27 ,  1.28 ,  0.08 ],\n",
       "       [ 0.13 ,  3.12 ,  0.16 ],\n",
       "       [-0.21 ,  1.23 , -0.11 ],\n",
       "       [-2.18 ,  1.39 , -0.19 ],\n",
       "       [ 0.34 ,  1.96 , -0.16 ],\n",
       "       [-1.38 ,  0.94 ,  0.45 ],\n",
       "       [-0.12 ,  0.82 ,  0.17 ],\n",
       "       [-1.44 ,  2.31 ,  0.14 ],\n",
       "       [ 0.26 ,  1.94 ,  0.08 ],\n",
       "       [ 1.36 ,  2.17 ,  0.14 ],\n",
       "       [ 1.41 ,  1.45 , -0.38 ],\n",
       "       [ 1.22 ,  0.99 ,  0.69 ],\n",
       "       [ 2.46 ,  2.19 ,  1.31 ],\n",
       "       [ 0.68 ,  0.79 ,  0.87 ],\n",
       "       [ 2.51 ,  3.22 ,  1.35 ],\n",
       "       [ 0.6  ,  2.44 ,  0.92 ],\n",
       "       [ 0.64 ,  0.31 ,  0.97 ],\n",
       "       [ 0.85 ,  0.58 ,  0.99 ],\n",
       "       [ 0.66 ,  0.51 ,  0.88 ]])"
      ]
     },
     "execution_count": 38,
     "metadata": {},
     "output_type": "execute_result"
    }
   ],
   "source": [
    "data=[]\n",
    "with open('data.csv','r') as f:\n",
    "    reader = csv.reader(f)\n",
    "    for row in reader:\n",
    "        if row[0]!=\"x1\":\n",
    "            data.append(row)\n",
    "data = np.array(data,dtype='float')\n",
    "\n",
    "y  = np.arange(30)\n",
    "for i in y:\n",
    "    y[i] = i/10\n",
    "data"
   ]
  },
  {
   "cell_type": "markdown",
   "metadata": {},
   "source": [
    "## 欧式距离"
   ]
  },
  {
   "cell_type": "code",
   "execution_count": 39,
   "metadata": {},
   "outputs": [],
   "source": [
    "def Distance(x1,x2):\n",
    "    return math.sqrt(sum((x1-x2)**2))"
   ]
  },
  {
   "cell_type": "markdown",
   "metadata": {
    "scrolled": true
   },
   "source": [
    "# KNN"
   ]
  },
  {
   "cell_type": "code",
   "execution_count": 50,
   "metadata": {},
   "outputs": [],
   "source": [
    "def KNN(data,target,x_predict,N):\n",
    "    distances = [Distance(i,x_predict) for i in data]\n",
    "    \n",
    "    y_predict = Counter(target[np.argsort(distances)[1:N+1]]).most_common(1)\n",
    "    \n",
    "    return y_predict[0][0]"
   ]
  },
  {
   "cell_type": "markdown",
   "metadata": {},
   "source": [
    "# 题目a"
   ]
  },
  {
   "cell_type": "code",
   "execution_count": 80,
   "metadata": {},
   "outputs": [
    {
     "name": "stdout",
     "output_type": "stream",
     "text": [
      "[2, 1, 2, 2, 2, 2, 1, 2, 2, 2]\n",
      "[2, 2, 2, 2, 2, 0, 1, 2, 2, 2]\n",
      "[2, 1, 2, 2, 2, 2, 1, 2, 2, 2]\n"
     ]
    }
   ],
   "source": [
    "dataw = data[:,0:3]\n",
    "\n",
    "dataw3 = dataw[y==2]\n",
    "\n",
    "for i in range(1,6,2):\n",
    "    y_predicts = [KNN(dataw,y,sample,i) for sample in dataw3]\n",
    "\n",
    "    print(y_predicts)"
   ]
  },
  {
   "cell_type": "markdown",
   "metadata": {},
   "source": [
    "# 题目b"
   ]
  },
  {
   "cell_type": "code",
   "execution_count": 81,
   "metadata": {},
   "outputs": [
    {
     "name": "stdout",
     "output_type": "stream",
     "text": [
      "[1, 2, 2, 0, 1, 1, 1, 0, 1, 1]\n",
      "[1, 2, 1, 0, 1, 1, 0, 0, 1, 1]\n",
      "[0, 2, 1, 0, 1, 0, 0, 0, 1, 0]\n"
     ]
    }
   ],
   "source": [
    "dataw = data[:,0:2]\n",
    "dataw2 = dataw[y==1]\n",
    "for i in range(1,6,2):\n",
    "    y_predicts = [KNN(dataw,y,sample,i) for sample in dataw2]\n",
    "    print(y_predicts)"
   ]
  },
  {
   "cell_type": "markdown",
   "metadata": {},
   "source": [
    "# 题目c"
   ]
  },
  {
   "cell_type": "code",
   "execution_count": 82,
   "metadata": {},
   "outputs": [
    {
     "name": "stdout",
     "output_type": "stream",
     "text": [
      "1\n",
      "0\n",
      "1\n"
     ]
    }
   ],
   "source": [
    "samples = []\n",
    "samples.append([-0.41, 0.82, 0.88])\n",
    "samples.append([0.14, 0.72, 4.1])\n",
    "samples.append([-0.81, 0.61, -0.38])\n",
    "\n",
    "for sample in samples:\n",
    "    print(KNN(data,y,sample,3))"
   ]
  },
  {
   "cell_type": "code",
   "execution_count": null,
   "metadata": {},
   "outputs": [],
   "source": []
  }
 ],
 "metadata": {
  "kernelspec": {
   "display_name": "Python 3",
   "language": "python",
   "name": "python3"
  },
  "language_info": {
   "codemirror_mode": {
    "name": "ipython",
    "version": 3
   },
   "file_extension": ".py",
   "mimetype": "text/x-python",
   "name": "python",
   "nbconvert_exporter": "python",
   "pygments_lexer": "ipython3",
   "version": "3.6.4"
  }
 },
 "nbformat": 4,
 "nbformat_minor": 2
}
