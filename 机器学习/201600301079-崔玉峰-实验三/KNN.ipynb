{
 "cells": [
  {
   "cell_type": "code",
   "execution_count": 47,
   "metadata": {},
   "outputs": [],
   "source": [
    "import numpy as np\n",
    "import csv\n",
    "import math\n",
    "from collections import Counter"
   ]
  },
  {
   "cell_type": "markdown",
   "metadata": {},
   "source": [
    "# 数据加载"
   ]
  },
  {
   "cell_type": "code",
   "execution_count": 95,
   "metadata": {},
   "outputs": [
    {
     "data": {
      "text/plain": [
       "array([[ 0.28 ,  1.31 , -6.2  ],\n",
       "       [ 0.07 ,  0.58 , -0.78 ],\n",
       "       [ 1.54 ,  2.01 , -1.63 ],\n",
       "       [-0.44 ,  1.18 , -4.32 ],\n",
       "       [-0.81 ,  0.21 ,  5.73 ],\n",
       "       [ 1.52 ,  3.16 ,  2.77 ],\n",
       "       [ 2.2  ,  2.42 , -0.19 ],\n",
       "       [ 0.91 ,  1.94 ,  6.21 ],\n",
       "       [ 0.65 ,  1.93 ,  4.38 ],\n",
       "       [-0.26 ,  0.82 , -0.96 ],\n",
       "       [ 0.011,  1.03 , -0.21 ],\n",
       "       [ 1.27 ,  1.28 ,  0.08 ],\n",
       "       [ 0.13 ,  3.12 ,  0.16 ],\n",
       "       [-0.21 ,  1.23 , -0.11 ],\n",
       "       [-2.18 ,  1.39 , -0.19 ],\n",
       "       [ 0.34 ,  1.96 , -0.16 ],\n",
       "       [-1.38 ,  0.94 ,  0.45 ],\n",
       "       [-0.12 ,  0.82 ,  0.17 ],\n",
       "       [-1.44 ,  2.31 ,  0.14 ],\n",
       "       [ 0.26 ,  1.94 ,  0.08 ],\n",
       "       [ 1.36 ,  2.17 ,  0.14 ],\n",
       "       [ 1.41 ,  1.45 , -0.38 ],\n",
       "       [ 1.22 ,  0.99 ,  0.69 ],\n",
       "       [ 2.46 ,  2.19 ,  1.31 ],\n",
       "       [ 0.68 ,  0.79 ,  0.87 ],\n",
       "       [ 2.51 ,  3.22 ,  1.35 ],\n",
       "       [ 0.6  ,  2.44 ,  0.92 ],\n",
       "       [ 0.64 ,  0.31 ,  0.97 ],\n",
       "       [ 0.85 ,  0.58 ,  0.99 ],\n",
       "       [ 0.66 ,  0.51 ,  0.88 ]])"
      ]
     },
     "execution_count": 95,
     "metadata": {},
     "output_type": "execute_result"
    }
   ],
   "source": [
    "data=[]\n",
    "with open('data.csv','r') as f:\n",
    "    reader = csv.reader(f)\n",
    "    for row in reader:\n",
    "        if row[0]!=\"x1\":\n",
    "            data.append(row)\n",
    "data = np.array(data,dtype='float')\n",
    "\n",
    "y  = np.arange(30)\n",
    "for i in y:\n",
    "    y[i] = i/10\n",
    "data"
   ]
  },
  {
   "cell_type": "markdown",
   "metadata": {},
   "source": [
    "## 欧式距离"
   ]
  },
  {
   "cell_type": "code",
   "execution_count": 96,
   "metadata": {},
   "outputs": [],
   "source": [
    "def Distance(x1,x2):\n",
    "    return math.sqrt(sum((x1-x2)**2))"
   ]
  },
  {
   "cell_type": "code",
   "execution_count": 97,
   "metadata": {
    "scrolled": true
   },
   "outputs": [],
   "source": [
    "#KNN"
   ]
  },
  {
   "cell_type": "code",
   "execution_count": 98,
   "metadata": {},
   "outputs": [],
   "source": [
    "def KNN(data,target,x_predict,N):\n",
    "    distances = [Distance(i,x_predict) for i in data]\n",
    "    y_predict = Counter(y[np.argsort(distances)[1:N+1]])\n",
    "    \n",
    "    return y_predict[max(y_predict.values())]"
   ]
  },
  {
   "cell_type": "code",
   "execution_count": 101,
   "metadata": {},
   "outputs": [
    {
     "name": "stdout",
     "output_type": "stream",
     "text": [
      "[[ 0.28   1.31 ]\n",
      " [ 0.07   0.58 ]\n",
      " [ 1.54   2.01 ]\n",
      " [-0.44   1.18 ]\n",
      " [-0.81   0.21 ]\n",
      " [ 1.52   3.16 ]\n",
      " [ 2.2    2.42 ]\n",
      " [ 0.91   1.94 ]\n",
      " [ 0.65   1.93 ]\n",
      " [-0.26   0.82 ]\n",
      " [ 0.011  1.03 ]\n",
      " [ 1.27   1.28 ]\n",
      " [ 0.13   3.12 ]\n",
      " [-0.21   1.23 ]\n",
      " [-2.18   1.39 ]\n",
      " [ 0.34   1.96 ]\n",
      " [-1.38   0.94 ]\n",
      " [-0.12   0.82 ]\n",
      " [-1.44   2.31 ]\n",
      " [ 0.26   1.94 ]\n",
      " [ 1.36   2.17 ]\n",
      " [ 1.41   1.45 ]\n",
      " [ 1.22   0.99 ]\n",
      " [ 2.46   2.19 ]\n",
      " [ 0.68   0.79 ]\n",
      " [ 2.51   3.22 ]\n",
      " [ 0.6    2.44 ]\n",
      " [ 0.64   0.31 ]\n",
      " [ 0.85   0.58 ]\n",
      " [ 0.66   0.51 ]]\n"
     ]
    },
    {
     "data": {
      "text/plain": [
       "0.4"
      ]
     },
     "execution_count": 101,
     "metadata": {},
     "output_type": "execute_result"
    }
   ],
   "source": [
    "\n",
    "data = data[:,0:2]\n",
    "print(data)\n",
    "count = 0\n",
    "for i in range(30):\n",
    "    if KNN(data,y,data[i],1)==y[i]:\n",
    "        count = count+1\n",
    "count/30"
   ]
  },
  {
   "cell_type": "code",
   "execution_count": 100,
   "metadata": {},
   "outputs": [
    {
     "name": "stdout",
     "output_type": "stream",
     "text": [
      "[[ 0.28   1.31  -6.2  ]\n",
      " [ 0.07   0.58  -0.78 ]\n",
      " [ 1.54   2.01  -1.63 ]\n",
      " [-0.44   1.18  -4.32 ]\n",
      " [-0.81   0.21   5.73 ]\n",
      " [ 1.52   3.16   2.77 ]\n",
      " [ 2.2    2.42  -0.19 ]\n",
      " [ 0.91   1.94   6.21 ]\n",
      " [ 0.65   1.93   4.38 ]\n",
      " [-0.26   0.82  -0.96 ]\n",
      " [ 0.011  1.03  -0.21 ]\n",
      " [ 1.27   1.28   0.08 ]\n",
      " [ 0.13   3.12   0.16 ]\n",
      " [-0.21   1.23  -0.11 ]\n",
      " [-2.18   1.39  -0.19 ]\n",
      " [ 0.34   1.96  -0.16 ]\n",
      " [-1.38   0.94   0.45 ]\n",
      " [-0.12   0.82   0.17 ]\n",
      " [-1.44   2.31   0.14 ]\n",
      " [ 0.26   1.94   0.08 ]\n",
      " [ 1.36   2.17   0.14 ]\n",
      " [ 1.41   1.45  -0.38 ]\n",
      " [ 1.22   0.99   0.69 ]\n",
      " [ 2.46   2.19   1.31 ]\n",
      " [ 0.68   0.79   0.87 ]\n",
      " [ 2.51   3.22   1.35 ]\n",
      " [ 0.6    2.44   0.92 ]\n",
      " [ 0.64   0.31   0.97 ]\n",
      " [ 0.85   0.58   0.99 ]\n",
      " [ 0.66   0.51   0.88 ]]\n"
     ]
    }
   ],
   "source": []
  },
  {
   "cell_type": "code",
   "execution_count": null,
   "metadata": {},
   "outputs": [],
   "source": []
  }
 ],
 "metadata": {
  "kernelspec": {
   "display_name": "Python 3",
   "language": "python",
   "name": "python3"
  },
  "language_info": {
   "codemirror_mode": {
    "name": "ipython",
    "version": 3
   },
   "file_extension": ".py",
   "mimetype": "text/x-python",
   "name": "python",
   "nbconvert_exporter": "python",
   "pygments_lexer": "ipython3",
   "version": "3.6.5"
  }
 },
 "nbformat": 4,
 "nbformat_minor": 2
}
