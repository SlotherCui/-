{
 "cells": [
  {
   "cell_type": "code",
   "execution_count": 67,
   "metadata": {},
   "outputs": [],
   "source": [
    "import numpy as np\n",
    "import csv\n",
    "import math"
   ]
  },
  {
   "cell_type": "markdown",
   "metadata": {},
   "source": [
    "# 数据加载"
   ]
  },
  {
   "cell_type": "code",
   "execution_count": 68,
   "metadata": {},
   "outputs": [
    {
     "data": {
      "text/plain": [
       "array([[ 0.28 ,  1.31 , -6.2  ],\n",
       "       [ 0.07 ,  0.58 , -0.78 ],\n",
       "       [ 1.54 ,  2.01 , -1.63 ],\n",
       "       [-0.44 ,  1.18 , -4.32 ],\n",
       "       [-0.81 ,  0.21 ,  5.73 ],\n",
       "       [ 1.52 ,  3.16 ,  2.77 ],\n",
       "       [ 2.2  ,  2.42 , -0.19 ],\n",
       "       [ 0.91 ,  1.94 ,  6.21 ],\n",
       "       [ 0.65 ,  1.93 ,  4.38 ],\n",
       "       [-0.26 ,  0.82 , -0.96 ],\n",
       "       [ 0.011,  1.03 , -0.21 ],\n",
       "       [ 1.27 ,  1.28 ,  0.08 ],\n",
       "       [ 0.13 ,  3.12 ,  0.16 ],\n",
       "       [-0.21 ,  1.23 , -0.11 ],\n",
       "       [-2.18 ,  1.39 , -0.19 ],\n",
       "       [ 0.34 ,  1.96 , -0.16 ],\n",
       "       [-1.38 ,  0.94 ,  0.45 ],\n",
       "       [-0.12 ,  0.82 ,  0.17 ],\n",
       "       [-1.44 ,  2.31 ,  0.14 ],\n",
       "       [ 0.26 ,  1.94 ,  0.08 ],\n",
       "       [ 1.36 ,  2.17 ,  0.14 ],\n",
       "       [ 1.41 ,  1.45 , -0.38 ],\n",
       "       [ 1.22 ,  0.99 ,  0.69 ],\n",
       "       [ 2.46 ,  2.19 ,  1.31 ],\n",
       "       [ 0.68 ,  0.79 ,  0.87 ],\n",
       "       [ 2.51 ,  3.22 ,  1.35 ],\n",
       "       [ 0.6  ,  2.44 ,  0.92 ],\n",
       "       [ 0.64 ,  0.31 ,  0.97 ],\n",
       "       [ 0.85 ,  0.58 ,  0.99 ],\n",
       "       [ 0.66 ,  0.51 ,  0.88 ]])"
      ]
     },
     "execution_count": 68,
     "metadata": {},
     "output_type": "execute_result"
    }
   ],
   "source": [
    "data=[]\n",
    "with open('data.csv','r') as f:\n",
    "    reader = csv.reader(f)\n",
    "    for row in reader:\n",
    "        if row[0]!=\"x1\":\n",
    "            data.append(row)\n",
    "data = np.array(data,dtype='float')\n",
    "\n",
    "y  = np.arange(30)\n",
    "for i in y:\n",
    "    y[i] = i/10\n",
    "data"
   ]
  },
  {
   "cell_type": "markdown",
   "metadata": {},
   "source": [
    "# Parzen窗估计"
   ]
  },
  {
   "cell_type": "code",
   "execution_count": 69,
   "metadata": {},
   "outputs": [],
   "source": [
    "def Parzen(dataw, x, h):\n",
    "    \n",
    "    sum = 0\n",
    "    for i in range(dataw.shape[0]):\n",
    "        sum+=(1/h**3)*math.exp(-1*(x-dataw[i]).dot((x-dataw[i]).T)/(2*h**2))\n",
    "\n",
    "    return sum/dataw.shape[0]"
   ]
  },
  {
   "cell_type": "code",
   "execution_count": 70,
   "metadata": {},
   "outputs": [
    {
     "name": "stdout",
     "output_type": "stream",
     "text": [
      "1\n",
      "\n",
      "1\n",
      "\n",
      "1\n",
      "\n"
     ]
    }
   ],
   "source": [
    "samples =[]\n",
    "samples.append([0.5,1.0,0.0])\n",
    "samples.append([0.31,1.51,-0.5])\n",
    "samples.append([-0.3,0.44,-0.1])\n",
    "\n",
    "\n",
    "\n",
    "for sample in samples:\n",
    "    \n",
    "    max = float(\"-inf\")\n",
    "    w = -1\n",
    "    for i in range(3):\n",
    "        p = Parzen(data[y==i],sample,1)\n",
    "        if p > max:\n",
    "            max = p\n",
    "            w = i \n",
    "            \n",
    "    print(w)\n",
    "    print()\n"
   ]
  },
  {
   "cell_type": "code",
   "execution_count": null,
   "metadata": {},
   "outputs": [],
   "source": []
  },
  {
   "cell_type": "code",
   "execution_count": null,
   "metadata": {},
   "outputs": [],
   "source": []
  }
 ],
 "metadata": {
  "kernelspec": {
   "display_name": "Python 3",
   "language": "python",
   "name": "python3"
  },
  "language_info": {
   "codemirror_mode": {
    "name": "ipython",
    "version": 3
   },
   "file_extension": ".py",
   "mimetype": "text/x-python",
   "name": "python",
   "nbconvert_exporter": "python",
   "pygments_lexer": "ipython3",
   "version": "3.6.5"
  }
 },
 "nbformat": 4,
 "nbformat_minor": 2
}
