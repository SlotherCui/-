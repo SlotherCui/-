{
 "cells": [
  {
   "cell_type": "code",
   "execution_count": 16,
   "metadata": {},
   "outputs": [],
   "source": [
    "import numpy as np\n",
    "import struct\n",
    "import matplotlib.pyplot as plt"
   ]
  },
  {
   "cell_type": "markdown",
   "metadata": {},
   "source": [
    "# 加载MNIST数据"
   ]
  },
  {
   "cell_type": "code",
   "execution_count": 17,
   "metadata": {},
   "outputs": [],
   "source": [
    "def load_mnist(kind='train'):\n",
    "    labels_path = kind+'-labels.idx1-ubyte'\n",
    "    images_path =kind+'-images.idx3-ubyte' \n",
    "                    \n",
    "    with open(labels_path, 'rb') as lbpath:\n",
    "        magic, n = struct.unpack('>II',lbpath.read(8))\n",
    "        labels = np.fromfile(lbpath,dtype=np.uint8)\n",
    "\n",
    "    with open(images_path, 'rb') as imgpath:\n",
    "        magic, num, rows, cols = struct.unpack('>IIII',imgpath.read(16))\n",
    "        images = np.fromfile(imgpath,dtype=np.uint8).reshape(len(labels), 784)\n",
    "\n",
    "    return images, labels"
   ]
  },
  {
   "cell_type": "markdown",
   "metadata": {},
   "source": [
    "### 加载测试数据集和测试数据集"
   ]
  },
  {
   "cell_type": "code",
   "execution_count": 18,
   "metadata": {},
   "outputs": [],
   "source": [
    "x_train,y_train= load_mnist()\n",
    "x_test,y_test = load_mnist('t10k')"
   ]
  },
  {
   "cell_type": "markdown",
   "metadata": {},
   "source": [
    "### 查看MNIST手写数据集"
   ]
  },
  {
   "cell_type": "code",
   "execution_count": 19,
   "metadata": {},
   "outputs": [
    {
     "data": {
      "image/png": "[encoded data removed]",
      "text/plain": [
       "<Figure size 432x288 with 10 Axes>"
      ]
     },
     "metadata": {},
     "output_type": "display_data"
    }
   ],
   "source": [
    "fig, ax = plt.subplots(nrows=2,ncols=5,sharex=True,sharey=True, )\n",
    "\n",
    "ax = ax.flatten()\n",
    "for i in range(10):\n",
    "    img = x_test[y_test == i][0].reshape(28, 28)\n",
    "    ax[i].imshow(img, cmap='Greys', interpolation='nearest')\n",
    "    \n",
    "ax[0].set_xticks([])\n",
    "ax[0].set_yticks([])\n",
    "plt.tight_layout()\n",
    "plt.show()"
   ]
  },
  {
   "cell_type": "markdown",
   "metadata": {},
   "source": [
    "### 数据预处理"
   ]
  },
  {
   "cell_type": "code",
   "execution_count": 20,
   "metadata": {},
   "outputs": [
    {
     "data": {
      "text/plain": [
       "(60000, 784)"
      ]
     },
     "execution_count": 20,
     "metadata": {},
     "output_type": "execute_result"
    }
   ],
   "source": [
    "##归一化\n",
    "\n",
    "\n",
    "x_train[x_train>0]=1\n",
    "x_test[x_test>0]=1\n",
    "\n",
    "\n",
    "##独热处理\n",
    "Y = []\n",
    "for i in y_test:\n",
    "    y = np.zeros(10)\n",
    "    y[i] = 1\n",
    "    Y.append(y)\n",
    "\n",
    "y_test = np.array(Y)\n",
    "\n",
    "\n",
    "Y = []\n",
    "for i in y_train:\n",
    "    y = np.zeros(10)\n",
    "    y[i] = 1\n",
    "    Y.append(y)\n",
    "\n",
    "y_train = np.array(Y)\n",
    "\n",
    "\n",
    "x_train.shape"
   ]
  },
  {
   "cell_type": "markdown",
   "metadata": {},
   "source": [
    "# BP神经网络"
   ]
  },
  {
   "cell_type": "markdown",
   "metadata": {},
   "source": [
    "### sigmod 激活函数"
   ]
  },
  {
   "cell_type": "code",
   "execution_count": 21,
   "metadata": {},
   "outputs": [],
   "source": [
    "##sigmod 激活函数\n",
    "def sigmoid(t):\n",
    "    return 1/(1 + np.exp(-t))"
   ]
  },
  {
   "cell_type": "markdown",
   "metadata": {},
   "source": [
    "### 随机初始化矩阵函数"
   ]
  },
  {
   "cell_type": "code",
   "execution_count": 22,
   "metadata": {},
   "outputs": [],
   "source": [
    "def random(rrange,size):\n",
    "    a = rrange[0]\n",
    "    b = rrange[1]\n",
    "    return (b-a)*np.random.random(size=size)+a"
   ]
  },
  {
   "cell_type": "markdown",
   "metadata": {},
   "source": [
    "### 初始化变量"
   ]
  },
  {
   "cell_type": "code",
   "execution_count": 23,
   "metadata": {},
   "outputs": [],
   "source": [
    "input_num = 784 ##输入神经元数\n",
    "hiden_num = 25 ##隐神经元数\n",
    "output_num = 10 ##输出神经元数\n",
    "\n",
    "\n",
    "##输入层到隐层的权值 input_num*hiden_num\n",
    "Wih = random((-1/28,1/28),(input_num,hiden_num))\n",
    "##隐层到输出层的权值 hiden_num*output_num\n",
    "Who =random((-1/5,1/5),(hiden_num,output_num))\n",
    "\n",
    "# ##隐层初始阈值\n",
    "# Yh = np.random.random(size=(hiden_num,1))\n",
    "# ##输出层初始阈值\n",
    "# Yo = np.random.random(size =(output_num,1))\n",
    "\n",
    "##输入层\n",
    "Li =  np.zeros((input_num,1))\n",
    "##隐层\n",
    "Lh =  np.zeros((hiden_num,1))\n",
    "##输出层\n",
    "Lo =  np.zeros((output_num,1))"
   ]
  },
  {
   "cell_type": "markdown",
   "metadata": {},
   "source": [
    "### 计算当前矩阵输出函数"
   ]
  },
  {
   "cell_type": "code",
   "execution_count": 24,
   "metadata": {},
   "outputs": [],
   "source": [
    "def output(Li):\n",
    "    for i in range(hiden_num):\n",
    "        for j in range(input_num):\n",
    "            Lh[i] += Wih[j,i] * Li[j]\n",
    "        Lh[i]=sigmoid(Lh[i])\n",
    "    \n",
    "    for i in range(output_num):\n",
    "        for j in range(hiden_num):\n",
    "            Lo[i] += Who[j,i] * Lh[j]\n",
    "        Lo[i] = sigmoid(Lo[i])\n",
    "\n",
    "    return Lo\n",
    "        "
   ]
  },
  {
   "cell_type": "markdown",
   "metadata": {},
   "source": [
    "### 训练函数"
   ]
  },
  {
   "cell_type": "code",
   "execution_count": 25,
   "metadata": {},
   "outputs": [],
   "source": [
    "def fit(x_train,y_train,yita = 0.5):\n",
    "    \n",
    "    for n in range(x_train.shape[0]):\n",
    "        \n",
    "        if n%100 == 0:\n",
    "            print(n)\n",
    "        Li = x_train[n]\n",
    "\n",
    "        ##计算当前实际输出\n",
    "        Z = output(Li)\n",
    "       \n",
    "       \n",
    "        ##计算输出层神经元的梯度值\n",
    "        g = np.zeros(output_num)\n",
    "        for i in range(output_num):\n",
    "            g[i] = Z[i]*(1-Z[i])*(y_train[n][i]-Z[i])\n",
    "\n",
    "\n",
    "        ##计算隐层神经元的梯度值\n",
    "        e = np.zeros(hiden_num)\n",
    "        for i in range(hiden_num):\n",
    "            temp = 0\n",
    "            for j in range(output_num):\n",
    "                temp += g[j]*Who[i,j]\n",
    "            e[i] = Lh[i]*(1-Lh[i])*temp\n",
    "        \n",
    "        ##更新权值\n",
    "        for i in range(hiden_num):\n",
    "            for j in range(output_num):\n",
    "                Who[i,j] +=yita*g[j]*Lh[i]    \n",
    "\n",
    "        for i in range(input_num):\n",
    "            for j in range(hiden_num):\n",
    "                Wih[i,j] +=yita*e[j]*Li[i]\n",
    "\n",
    "\n",
    "#         ##更新阈值\n",
    "#         for i in range(output_num):\n",
    "#             Yo[i] = Yo[i]-yita*g[i]\n",
    "\n",
    "#         for i in range(hiden_num):\n",
    "#             Yh [i] = Yh [i]-yita*e[i]\n",
    "        "
   ]
  },
  {
   "cell_type": "code",
   "execution_count": 26,
   "metadata": {},
   "outputs": [],
   "source": [
    "def predict(x_predict):\n",
    "    result=[]\n",
    "    for x in x_predict:\n",
    "        Li = x\n",
    "        result.append(output())\n",
    "        \n",
    "    return np.array(result)"
   ]
  },
  {
   "cell_type": "code",
   "execution_count": 27,
   "metadata": {},
   "outputs": [
    {
     "name": "stdout",
     "output_type": "stream",
     "text": [
      "0\n",
      "100\n",
      "200\n",
      "300\n",
      "400\n",
      "500\n",
      "600\n",
      "700\n",
      "800\n",
      "900\n",
      "1000\n",
      "1100\n",
      "1200\n",
      "1300\n",
      "1400\n",
      "1500\n",
      "1600\n",
      "1700\n",
      "1800\n",
      "1900\n",
      "2000\n",
      "2100\n",
      "2200\n",
      "2300\n",
      "2400\n",
      "2500\n",
      "2600\n",
      "2700\n",
      "2800\n",
      "2900\n",
      "3000\n",
      "3100\n",
      "3200\n",
      "3300\n",
      "3400\n",
      "3500\n",
      "3600\n",
      "3700\n",
      "3800\n",
      "3900\n",
      "4000\n",
      "4100\n",
      "4200\n",
      "4300\n",
      "4400\n",
      "4500\n",
      "4600\n",
      "4700\n",
      "4800\n",
      "4900\n",
      "5000\n",
      "5100\n",
      "5200\n",
      "5300\n",
      "5400\n",
      "5500\n",
      "5600\n",
      "5700\n",
      "5800\n",
      "5900\n",
      "6000\n",
      "6100\n",
      "6200\n",
      "6300\n",
      "6400\n",
      "6500\n",
      "6600\n",
      "6700\n",
      "6800\n",
      "6900\n",
      "7000\n",
      "7100\n",
      "7200\n",
      "7300\n",
      "7400\n",
      "7500\n",
      "7600\n",
      "7700\n",
      "7800\n",
      "7900\n",
      "8000\n",
      "8100\n",
      "8200\n",
      "8300\n",
      "8400\n",
      "8500\n",
      "8600\n",
      "8700\n",
      "8800\n",
      "8900\n",
      "9000\n",
      "9100\n",
      "9200\n",
      "9300\n",
      "9400\n",
      "9500\n",
      "9600\n",
      "9700\n",
      "9800\n",
      "9900\n"
     ]
    }
   ],
   "source": [
    "fit(x_train[0:10000],y_train[0:10000])"
   ]
  },
  {
   "cell_type": "markdown",
   "metadata": {},
   "source": [
    "### 评价模型函数"
   ]
  },
  {
   "cell_type": "code",
   "execution_count": 30,
   "metadata": {},
   "outputs": [],
   "source": [
    "def score(x_test,y_test):\n",
    "    count = 0\n",
    "    for i in range(x_test.shape[0]):\n",
    "        n = np.random.randint(x_test.shape[0])\n",
    "        Li = x_test[n]\n",
    "        if y_test[n][np.argmax(output(Li))]== 1:\n",
    "            count =count+1\n",
    "\n",
    "    print(count)\n",
    "    return count/x_test.shape[0]\n"
   ]
  },
  {
   "cell_type": "code",
   "execution_count": 31,
   "metadata": {},
   "outputs": [
    {
     "name": "stdout",
     "output_type": "stream",
     "text": [
      "878\n"
     ]
    },
    {
     "data": {
      "text/plain": [
       "0.878"
      ]
     },
     "execution_count": 31,
     "metadata": {},
     "output_type": "execute_result"
    }
   ],
   "source": [
    "score(x_test[0:1000],y_test[0:1000])"
   ]
  },
  {
   "cell_type": "code",
   "execution_count": null,
   "metadata": {},
   "outputs": [],
   "source": []
  }
 ],
 "metadata": {
  "kernelspec": {
   "display_name": "Python 3",
   "language": "python",
   "name": "python3"
  },
  "language_info": {
   "codemirror_mode": {
    "name": "ipython",
    "version": 3
   },
   "file_extension": ".py",
   "mimetype": "text/x-python",
   "name": "python",
   "nbconvert_exporter": "python",
   "pygments_lexer": "ipython3",
   "version": "3.6.5"
  }
 },
 "nbformat": 4,
 "nbformat_minor": 2
}
