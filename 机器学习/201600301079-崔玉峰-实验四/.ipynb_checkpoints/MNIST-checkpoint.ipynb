{
 "cells": [
  {
   "cell_type": "code",
   "execution_count": 2,
   "metadata": {},
   "outputs": [],
   "source": [
    "import numpy as np\n",
    "import struct\n",
    "import matplotlib.pyplot as plt"
   ]
  },
  {
   "cell_type": "markdown",
   "metadata": {},
   "source": [
    "# 加载MNIST数据"
   ]
  },
  {
   "cell_type": "code",
   "execution_count": 3,
   "metadata": {},
   "outputs": [],
   "source": [
    "def load_mnist(kind='train'):\n",
    "    labels_path = kind+'-labels.idx1-ubyte'\n",
    "    images_path =kind+'-images.idx3-ubyte' \n",
    "                    \n",
    "    with open(labels_path, 'rb') as lbpath:\n",
    "        magic, n = struct.unpack('>II',lbpath.read(8))\n",
    "        labels = np.fromfile(lbpath,dtype=np.uint8)\n",
    "\n",
    "    with open(images_path, 'rb') as imgpath:\n",
    "        magic, num, rows, cols = struct.unpack('>IIII',imgpath.read(16))\n",
    "        images = np.fromfile(imgpath,dtype=np.uint8).reshape(len(labels), 784)\n",
    "\n",
    "    return images, labels"
   ]
  },
  {
   "cell_type": "markdown",
   "metadata": {},
   "source": [
    "### 加载测试数据集和测试数据集"
   ]
  },
  {
   "cell_type": "code",
   "execution_count": 4,
   "metadata": {},
   "outputs": [],
   "source": [
    "x_train,y_train= load_mnist()\n",
    "x_test,y_test = load_mnist('t10k')"
   ]
  },
  {
   "cell_type": "markdown",
   "metadata": {},
   "source": [
    "### 查看MNIST手写数据集"
   ]
  },
  {
   "cell_type": "code",
   "execution_count": 5,
   "metadata": {},
   "outputs": [
    {
     "data": {
      "image/png": "[encoded data removed]",
      "text/plain": [
       "<matplotlib.figure.Figure at 0x19d4ea44e10>"
      ]
     },
     "metadata": {},
     "output_type": "display_data"
    }
   ],
   "source": [
    "fig, ax = plt.subplots(nrows=2,ncols=5,sharex=True,sharey=True, )\n",
    "\n",
    "ax = ax.flatten()\n",
    "for i in range(10):\n",
    "    img = x_test[y_test == i][0].reshape(28, 28)\n",
    "    ax[i].imshow(img, cmap='Greys', interpolation='nearest')\n",
    "    \n",
    "ax[0].set_xticks([])\n",
    "ax[0].set_yticks([])\n",
    "plt.tight_layout()\n",
    "plt.show()"
   ]
  },
  {
   "cell_type": "markdown",
   "metadata": {},
   "source": [
    "### 数据预处理"
   ]
  },
  {
   "cell_type": "code",
   "execution_count": 6,
   "metadata": {},
   "outputs": [
    {
     "data": {
      "text/plain": [
       "(60000, 784)"
      ]
     },
     "execution_count": 6,
     "metadata": {},
     "output_type": "execute_result"
    }
   ],
   "source": [
    "##归一化\n",
    "\n",
    "\n",
    "x_train[x_train>0]=1\n",
    "x_test[x_test>0]=1\n",
    "\n",
    "\n",
    "##独热处理\n",
    "Y = []\n",
    "for i in y_test:\n",
    "    y = np.zeros(10)\n",
    "    y[i] = 1\n",
    "    Y.append(y)\n",
    "\n",
    "y_test = np.array(Y)\n",
    "\n",
    "\n",
    "Y = []\n",
    "for i in y_train:\n",
    "    y = np.zeros(10)\n",
    "    y[i] = 1\n",
    "    Y.append(y)\n",
    "\n",
    "y_train = np.array(Y)\n",
    "\n",
    "\n",
    "x_train.shape"
   ]
  },
  {
   "cell_type": "markdown",
   "metadata": {},
   "source": [
    "# BP神经网络"
   ]
  },
  {
   "cell_type": "markdown",
   "metadata": {},
   "source": [
    "### sigmod 激活函数"
   ]
  },
  {
   "cell_type": "code",
   "execution_count": 16,
   "metadata": {},
   "outputs": [],
   "source": [
    "##sigmod 激活函数\n",
    "def sigmoid(t):\n",
    "    return 1/(1 + np.exp(-t))"
   ]
  },
  {
   "cell_type": "markdown",
   "metadata": {},
   "source": [
    "### 随机初始化矩阵函数"
   ]
  },
  {
   "cell_type": "code",
   "execution_count": 17,
   "metadata": {},
   "outputs": [],
   "source": [
    "def random(rrange,size):\n",
    "    a = rrange[0]\n",
    "    b = rrange[1]\n",
    "    np.random.seed(666)\n",
    "    return (b-a)*np.random.random(size=size)+a"
   ]
  },
  {
   "cell_type": "markdown",
   "metadata": {},
   "source": [
    "### 初始化变量"
   ]
  },
  {
   "cell_type": "code",
   "execution_count": 30,
   "metadata": {},
   "outputs": [],
   "source": [
    "\n",
    "\n",
    "input_num = 784 ##输入神经元数\n",
    "hiden_num = 25 ##隐神经元数\n",
    "output_num = 10 ##输出神经元数\n",
    "\n",
    "\n",
    "##输入层到隐层的权值 input_num*hiden_num\n",
    "Wih = random((-1/28,1/28),(input_num,hiden_num))\n",
    "##隐层到输出层的权值 hiden_num*output_num\n",
    "Who =random((-1/5,1/5),(hiden_num,output_num))\n",
    "\n",
    "# ##隐层初始阈值\n",
    "# Yh = np.random.random(size=(hiden_num,1))\n",
    "# ##输出层初始阈值\n",
    "# Yo = np.random.random(size =(output_num,1))\n",
    "\n",
    "##输入层\n",
    "Li =  np.zeros((input_num,1))\n",
    "##隐层\n",
    "Lh =  np.zeros((hiden_num,1))\n",
    "##输出层\n",
    "Lo =  np.zeros((output_num,1))"
   ]
  },
  {
   "cell_type": "markdown",
   "metadata": {},
   "source": [
    "### 计算当前矩阵输出函数"
   ]
  },
  {
   "cell_type": "code",
   "execution_count": 19,
   "metadata": {},
   "outputs": [],
   "source": [
    "def output(Li):\n",
    "    for i in range(hiden_num):\n",
    "        for j in range(input_num):\n",
    "            Lh[i] += Wih[j,i] * Li[j]\n",
    "        Lh[i]=sigmoid(Lh[i])\n",
    "    \n",
    "    for i in range(output_num):\n",
    "        for j in range(hiden_num):\n",
    "            Lo[i] += Who[j,i] * Lh[j]\n",
    "        Lo[i] = sigmoid(Lo[i])\n",
    "\n",
    "    return Lo\n",
    "        "
   ]
  },
  {
   "cell_type": "markdown",
   "metadata": {},
   "source": [
    "### 训练函数"
   ]
  },
  {
   "cell_type": "code",
   "execution_count": 20,
   "metadata": {},
   "outputs": [],
   "source": [
    "def fit(x_train,y_train,yita = 0.5):\n",
    "    \n",
    "    for n in range(x_train.shape[0]):\n",
    "        \n",
    "        if n%100 == 0:\n",
    "            print(n)\n",
    "        Li = x_train[n]\n",
    "\n",
    "        ##计算当前实际输出\n",
    "        Z = output(Li)\n",
    "       \n",
    "       \n",
    "        ##计算输出层神经元的梯度值\n",
    "        g = np.zeros(output_num)\n",
    "        for i in range(output_num):\n",
    "            g[i] = Z[i]*(1-Z[i])*(y_train[n][i]-Z[i])\n",
    "\n",
    "\n",
    "        ##计算隐层神经元的梯度值\n",
    "        e = np.zeros(hiden_num)\n",
    "        for i in range(hiden_num):\n",
    "            temp = 0\n",
    "            for j in range(output_num):\n",
    "                temp += g[j]*Who[i,j]\n",
    "            e[i] = Lh[i]*(1-Lh[i])*temp\n",
    "        \n",
    "        ##更新权值\n",
    "        for i in range(hiden_num):\n",
    "            for j in range(output_num):\n",
    "                Who[i,j] +=yita*g[j]*Lh[i]    \n",
    "\n",
    "        for i in range(input_num):\n",
    "            for j in range(hiden_num):\n",
    "                Wih[i,j] +=yita*e[j]*Li[i]\n",
    "\n",
    "\n",
    "#         ##更新阈值\n",
    "#         for i in range(output_num):\n",
    "#             Yo[i] = Yo[i]-yita*g[i]\n",
    "\n",
    "#         for i in range(hiden_num):\n",
    "#             Yh [i] = Yh [i]-yita*e[i]\n",
    "        "
   ]
  },
  {
   "cell_type": "code",
   "execution_count": 21,
   "metadata": {},
   "outputs": [],
   "source": [
    "def predict(x_predict):\n",
    "    result=[]\n",
    "    for x in x_predict:\n",
    "        Li = x\n",
    "        result.append(output())\n",
    "        \n",
    "    return np.array(result)"
   ]
  },
  {
   "cell_type": "code",
   "execution_count": null,
   "metadata": {},
   "outputs": [
    {
     "name": "stdout",
     "output_type": "stream",
     "text": [
      "0\n",
      "100\n",
      "200\n"
     ]
    }
   ],
   "source": [
    "fit(x_train[0:2000],y_train[0:2000])\n",
    "score(x_test[0:1000],y_test[0:1000])"
   ]
  },
  {
   "cell_type": "markdown",
   "metadata": {},
   "source": [
    "### 评价模型函数"
   ]
  },
  {
   "cell_type": "code",
   "execution_count": 14,
   "metadata": {},
   "outputs": [],
   "source": [
    "def score(x_test,y_test):\n",
    "    count = 0\n",
    "    for i in range(x_test.shape[0]):\n",
    "        Li = x_test[i]\n",
    "        if y_test[i][np.argmax(output(Li))]== 1:\n",
    "            count =count+1\n",
    "\n",
    "    print(count)\n",
    "    return count/x_test.shape[0]\n"
   ]
  },
  {
   "cell_type": "code",
   "execution_count": null,
   "metadata": {},
   "outputs": [],
   "source": []
  }
 ],
 "metadata": {
  "kernelspec": {
   "display_name": "Python 3",
   "language": "python",
   "name": "python3"
  },
  "language_info": {
   "codemirror_mode": {
    "name": "ipython",
    "version": 3
   },
   "file_extension": ".py",
   "mimetype": "text/x-python",
   "name": "python",
   "nbconvert_exporter": "python",
   "pygments_lexer": "ipython3",
   "version": "3.6.4"
  }
 },
 "nbformat": 4,
 "nbformat_minor": 2
}
