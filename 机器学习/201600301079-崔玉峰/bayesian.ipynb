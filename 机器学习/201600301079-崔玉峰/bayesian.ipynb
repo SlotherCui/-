{
 "cells": [
  {
   "cell_type": "code",
   "execution_count": 3,
   "metadata": {},
   "outputs": [],
   "source": [
    "import numpy as np\n",
    "import csv\n",
    "import math"
   ]
  },
  {
   "cell_type": "markdown",
   "metadata": {},
   "source": [
    "# 数据加载"
   ]
  },
  {
   "cell_type": "code",
   "execution_count": 4,
   "metadata": {},
   "outputs": [
    {
     "data": {
      "text/plain": [
       "array([[-5.01, -8.12, -3.68],\n",
       "       [-5.43, -3.48, -3.54],\n",
       "       [ 1.08, -5.52,  1.66],\n",
       "       [ 0.86, -3.78, -4.11],\n",
       "       [-2.67,  0.63,  7.39],\n",
       "       [ 4.94,  3.29,  2.08],\n",
       "       [-2.51,  2.09, -2.59],\n",
       "       [-2.25, -2.13, -6.94],\n",
       "       [ 5.56,  2.86, -2.26],\n",
       "       [ 1.03, -3.33,  4.33],\n",
       "       [-0.91, -0.18, -0.05],\n",
       "       [ 1.3 , -2.06, -3.53],\n",
       "       [-7.75, -4.54, -0.95],\n",
       "       [-5.47,  0.5 ,  3.92],\n",
       "       [ 6.14,  5.72, -4.85],\n",
       "       [ 3.6 ,  1.26,  4.36],\n",
       "       [ 5.37, -4.63, -3.65],\n",
       "       [ 7.18,  1.46, -6.66],\n",
       "       [-7.39,  1.17,  6.3 ],\n",
       "       [-7.5 , -6.32, -0.31],\n",
       "       [ 5.35,  2.26,  8.13],\n",
       "       [ 5.12,  3.22, -2.66],\n",
       "       [-1.34, -5.31, -9.87],\n",
       "       [ 4.48,  3.42,  5.19],\n",
       "       [ 7.11,  2.39,  9.21],\n",
       "       [ 7.17,  4.33, -0.98],\n",
       "       [ 5.75,  3.97,  6.65],\n",
       "       [ 0.77,  0.27,  2.41],\n",
       "       [ 0.9 , -0.43, -8.71],\n",
       "       [ 3.52, -0.36,  6.43]])"
      ]
     },
     "execution_count": 4,
     "metadata": {},
     "output_type": "execute_result"
    }
   ],
   "source": [
    "data=[]\n",
    "with open('data.csv','r') as f:\n",
    "    reader = csv.reader(f)\n",
    "    for row in reader:\n",
    "        if row[0]!=\"x1\":\n",
    "            data.append(row)\n",
    "data = np.array(data,dtype='float')\n",
    "\n",
    "y  = np.arange(30)\n",
    "for i in y:\n",
    "    y[i] = i/10\n",
    "data"
   ]
  },
  {
   "cell_type": "code",
   "execution_count": 5,
   "metadata": {},
   "outputs": [
    {
     "data": {
      "text/plain": [
       "<matplotlib.figure.Figure at 0x197edff06d8>"
      ]
     },
     "metadata": {},
     "output_type": "display_data"
    }
   ],
   "source": [
    "import matplotlib.pyplot as plt\n",
    "from mpl_toolkits import mplot3d\n",
    "fig = plt.figure() \n",
    "ax = plt.axes(projection='3d') \n",
    "\n",
    "# xdata = data[0,0]\n",
    "# xdata\n",
    "ax.scatter3D(data[y==0,0], data[y==0,1], data[y==0,2]);\n",
    "ax.scatter3D(data[y==1,0], data[y==1,1], data[y==1,2]);\n",
    "ax.scatter3D(data[y==2,0], data[y==2,1], data[y==2,2]);\n",
    "\n",
    "plt.show()"
   ]
  },
  {
   "cell_type": "markdown",
   "metadata": {},
   "source": [
    "# 马氏距离"
   ]
  },
  {
   "cell_type": "code",
   "execution_count": 10,
   "metadata": {},
   "outputs": [],
   "source": [
    "def MahalanobisDistance(x,dataw):\n",
    "    \n",
    "    ##样本协方差矩阵\n",
    "    sigma=np.cov(dataw.T)\n",
    "    \n",
    "\n",
    "    ##样本均值\n",
    "    u=[]\n",
    "    for i in range(sigma.shape[0]):\n",
    "        u.append(np.mean(dataw[:,i]))\n",
    "    u=np.array(u)\n",
    "\n",
    "    \n",
    "    ##马氏距离公式\n",
    "    return (x-u).dot(np.linalg.inv(sigma)).dot((x-u).T)\n",
    "\n",
    "    "
   ]
  },
  {
   "cell_type": "markdown",
   "metadata": {},
   "source": [
    "# 问题a的求解"
   ]
  },
  {
   "cell_type": "code",
   "execution_count": 11,
   "metadata": {},
   "outputs": [
    {
     "name": "stdout",
     "output_type": "stream",
     "text": [
      "测试点[1 2 1]\n",
      "[[14.38051111  7.69537778  4.12232222]\n",
      " [ 7.69537778 14.62312111  3.90684   ]\n",
      " [ 4.12232222  3.90684    19.72453778]]\n",
      "类别0:  1.014970621195808\n",
      "[[ 36.82933444   9.98092667 -16.36675111]\n",
      " [  9.98092667  13.16855111   0.40905111]\n",
      " [-16.36675111   0.40905111  18.42121778]]\n",
      "类别1:  0.8580511954300317\n",
      "[[ 8.30475667  7.44494667 13.14957778]\n",
      " [ 7.44494667  8.56044889 11.60861111]\n",
      " [13.14957778 11.60861111 47.28728889]]\n",
      "类别2:  2.6747570368060556\n",
      "\n",
      "测试点[5 3 2]\n",
      "[[14.38051111  7.69537778  4.12232222]\n",
      " [ 7.69537778 14.62312111  3.90684   ]\n",
      " [ 4.12232222  3.90684    19.72453778]]\n",
      "类别0:  1.5571382110034355\n",
      "[[ 36.82933444   9.98092667 -16.36675111]\n",
      " [  9.98092667  13.16855111   0.40905111]\n",
      " [-16.36675111   0.40905111  18.42121778]]\n",
      "类别1:  1.7556806886533693\n",
      "[[ 8.30475667  7.44494667 13.14957778]\n",
      " [ 7.44494667  8.56044889 11.60861111]\n",
      " [13.14957778 11.60861111 47.28728889]]\n",
      "类别2:  0.6470090140927858\n",
      "\n",
      "测试点[0 0 0]\n",
      "[[14.38051111  7.69537778  4.12232222]\n",
      " [ 7.69537778 14.62312111  3.90684   ]\n",
      " [ 4.12232222  3.90684    19.72453778]]\n",
      "类别0:  0.48996154156929983\n",
      "[[ 36.82933444   9.98092667 -16.36675111]\n",
      " [  9.98092667  13.16855111   0.40905111]\n",
      " [-16.36675111   0.40905111  18.42121778]]\n",
      "类别1:  0.26843241115322625\n",
      "[[ 8.30475667  7.44494667 13.14957778]\n",
      " [ 7.44494667  8.56044889 11.60861111]\n",
      " [13.14957778 11.60861111 47.28728889]]\n",
      "类别2:  2.241501371492966\n",
      "\n",
      "测试点[1 0 0]\n",
      "[[14.38051111  7.69537778  4.12232222]\n",
      " [ 7.69537778 14.62312111  3.90684   ]\n",
      " [ 4.12232222  3.90684    19.72453778]]\n",
      "类别0:  0.4872367586871817\n",
      "[[ 36.82933444   9.98092667 -16.36675111]\n",
      " [  9.98092667  13.16855111   0.40905111]\n",
      " [-16.36675111   0.40905111  18.42121778]]\n",
      "类别1:  0.4518343521525431\n",
      "[[ 8.30475667  7.44494667 13.14957778]\n",
      " [ 7.44494667  8.56044889 11.60861111]\n",
      " [13.14957778 11.60861111 47.28728889]]\n",
      "类别2:  1.4623364016581062\n",
      "\n"
     ]
    }
   ],
   "source": [
    "##加载测试点数据\n",
    "Mx = []\n",
    "Mx.append(np.array([1,2,1]))\n",
    "Mx.append(np.array([5,3,2]))\n",
    "Mx.append(np.array([0,0,0]))\n",
    "Mx.append(np.array([1,0,0]))\n",
    "\n",
    "##调用方法求马氏距离\n",
    "for mx in Mx:\n",
    "    print('测试点'+str(mx))\n",
    "    for i in range(3):\n",
    "        u=math.sqrt(MahalanobisDistance(mx,data[y==i]))\n",
    "        print(\"类别\"+str(i)+\":  \"+str(u))\n",
    "    print()"
   ]
  },
  {
   "cell_type": "markdown",
   "metadata": {},
   "source": [
    "# 贝叶斯分类"
   ]
  },
  {
   "cell_type": "code",
   "execution_count": 8,
   "metadata": {},
   "outputs": [],
   "source": [
    "def bayesian_classification(x_predict, Pw, dataw):\n",
    "    \n",
    "    ##马氏距离\n",
    "    MahDistamce = MahalanobisDistance(x_predict,dataw)\n",
    "    \n",
    "    ##样本维数\n",
    "    d = x_predict.shape[0]\n",
    "    \n",
    "    ##样本协方差矩阵\n",
    "    sigma=np.cov(dataw.T)\n",
    "    \n",
    "    ##样本协方差矩阵行列式的值\n",
    "    sigmaV = np.linalg.det(sigma)\n",
    "    \n",
    "    ##正态分布判别函数\n",
    "    return (-0.5*MahDistamce) - (d/2*math.log(2*math.pi))-(0.5*math.log(sigmaV)) + (math.log(Pw))"
   ]
  },
  {
   "cell_type": "markdown",
   "metadata": {},
   "source": [
    "# 问题b的求解"
   ]
  },
  {
   "cell_type": "code",
   "execution_count": 9,
   "metadata": {},
   "outputs": [
    {
     "name": "stdout",
     "output_type": "stream",
     "text": [
      "测试点[1 2 1]\n",
      "[-0.44  -1.749 -0.766]\n",
      "[-0.543 -0.762 -0.542]\n",
      "[3.883 1.376 1.58 ]\n",
      "分类结果： 1\n",
      "-8.293961583177135\n",
      "\n",
      "测试点[5 3 2]\n",
      "[-0.44  -1.749 -0.766]\n",
      "[-0.543 -0.762 -0.542]\n",
      "[3.883 1.376 1.58 ]\n",
      "分类结果： 2\n",
      "-7.078076818269081\n",
      "\n",
      "测试点[0 0 0]\n",
      "[-0.44  -1.749 -0.766]\n",
      "[-0.543 -0.762 -0.542]\n",
      "[3.883 1.376 1.58 ]\n",
      "分类结果： 0\n",
      "-7.936887968142948\n",
      "\n",
      "测试点[1 0 0]\n",
      "[-0.44  -1.749 -0.766]\n",
      "[-0.543 -0.762 -0.542]\n",
      "[3.883 1.376 1.58 ]\n",
      "分类结果： 0\n",
      "-7.935556641542461\n",
      "\n"
     ]
    }
   ],
   "source": [
    "##先验概率\n",
    "a =1/3\n",
    "Pw = [a,a,a]\n",
    "\n",
    "for mx in Mx:\n",
    "    \n",
    "    print('测试点'+str(mx))\n",
    "    class_w = -1\n",
    "    max_w = float('-Inf')\n",
    "    for i in range(3):\n",
    "        y_predict = bayesian_classification(mx, Pw[i],data[y==i])\n",
    "        if max_w<y_predict:\n",
    "            class_w = i\n",
    "            max_w=y_predict\n",
    "    \n",
    "    print('分类结果： '+str(class_w))\n",
    "    print(max_w)\n",
    "    print()"
   ]
  },
  {
   "cell_type": "markdown",
   "metadata": {},
   "source": [
    "# 问题c的求解"
   ]
  },
  {
   "cell_type": "code",
   "execution_count": 8,
   "metadata": {},
   "outputs": [
    {
     "name": "stdout",
     "output_type": "stream",
     "text": [
      "测试点[1 2 1]\n",
      "分类结果： 0\n",
      "-7.456470755625868\n",
      "\n",
      "测试点[5 3 2]\n",
      "分类结果： 0\n",
      "-8.153727778764054\n",
      "\n",
      "测试点[0 0 0]\n",
      "分类结果： 0\n",
      "-7.061419230789047\n",
      "\n",
      "测试点[1 0 0]\n",
      "分类结果： 0\n",
      "-7.060087904188561\n",
      "\n"
     ]
    }
   ],
   "source": [
    "##先验概率\n",
    "Pw = [0.8,0.1,0.1]\n",
    "for mx in Mx:\n",
    "    \n",
    "    print('测试点'+str(mx))\n",
    "    class_w = -1\n",
    "    max_w = float('-Inf')\n",
    "    for i in range(3):\n",
    "        y_predict = bayesian_classification(mx, Pw[i],data[y==i])\n",
    "        if max_w<y_predict:\n",
    "            class_w = i\n",
    "            max_w=y_predict\n",
    "    \n",
    "    print('分类结果： '+str(class_w))\n",
    "    print(max_w)\n",
    "    print()"
   ]
  },
  {
   "cell_type": "code",
   "execution_count": null,
   "metadata": {},
   "outputs": [],
   "source": []
  }
 ],
 "metadata": {
  "kernelspec": {
   "display_name": "Python 3",
   "language": "python",
   "name": "python3"
  },
  "language_info": {
   "codemirror_mode": {
    "name": "ipython",
    "version": 3
   },
   "file_extension": ".py",
   "mimetype": "text/x-python",
   "name": "python",
   "nbconvert_exporter": "python",
   "pygments_lexer": "ipython3",
   "version": "3.6.4"
  }
 },
 "nbformat": 4,
 "nbformat_minor": 2
}
